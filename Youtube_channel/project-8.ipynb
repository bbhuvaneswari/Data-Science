{
 "cells": [
  {
   "cell_type": "code",
   "execution_count": 1,
   "metadata": {},
   "outputs": [],
   "source": [
    "import pandas as pd\n",
    "import seaborn as sns"
   ]
  },
  {
   "cell_type": "code",
   "execution_count": 2,
   "metadata": {},
   "outputs": [],
   "source": [
    "data = pd.read_csv(\"top-5000-youtube-channels.csv\")"
   ]
  },
  {
   "cell_type": "code",
   "execution_count": 4,
   "metadata": {},
   "outputs": [
    {
     "data": {
      "text/html": [
       "<div>\n",
       "<style scoped>\n",
       "    .dataframe tbody tr th:only-of-type {\n",
       "        vertical-align: middle;\n",
       "    }\n",
       "\n",
       "    .dataframe tbody tr th {\n",
       "        vertical-align: top;\n",
       "    }\n",
       "\n",
       "    .dataframe thead th {\n",
       "        text-align: right;\n",
       "    }\n",
       "</style>\n",
       "<table border=\"1\" class=\"dataframe\">\n",
       "  <thead>\n",
       "    <tr style=\"text-align: right;\">\n",
       "      <th></th>\n",
       "      <th>Rank</th>\n",
       "      <th>Grade</th>\n",
       "      <th>Channel name</th>\n",
       "      <th>Video Uploads</th>\n",
       "      <th>Subscribers</th>\n",
       "      <th>Video views</th>\n",
       "    </tr>\n",
       "  </thead>\n",
       "  <tbody>\n",
       "    <tr>\n",
       "      <th>0</th>\n",
       "      <td>1st</td>\n",
       "      <td>A++</td>\n",
       "      <td>Zee TV</td>\n",
       "      <td>82757</td>\n",
       "      <td>18752951</td>\n",
       "      <td>20869786591</td>\n",
       "    </tr>\n",
       "    <tr>\n",
       "      <th>1</th>\n",
       "      <td>2nd</td>\n",
       "      <td>A++</td>\n",
       "      <td>T-Series</td>\n",
       "      <td>12661</td>\n",
       "      <td>61196302</td>\n",
       "      <td>47548839843</td>\n",
       "    </tr>\n",
       "    <tr>\n",
       "      <th>2</th>\n",
       "      <td>3rd</td>\n",
       "      <td>A++</td>\n",
       "      <td>Cocomelon - Nursery Rhymes</td>\n",
       "      <td>373</td>\n",
       "      <td>19238251</td>\n",
       "      <td>9793305082</td>\n",
       "    </tr>\n",
       "    <tr>\n",
       "      <th>3</th>\n",
       "      <td>4th</td>\n",
       "      <td>A++</td>\n",
       "      <td>SET India</td>\n",
       "      <td>27323</td>\n",
       "      <td>31180559</td>\n",
       "      <td>22675948293</td>\n",
       "    </tr>\n",
       "    <tr>\n",
       "      <th>4</th>\n",
       "      <td>5th</td>\n",
       "      <td>A++</td>\n",
       "      <td>WWE</td>\n",
       "      <td>36756</td>\n",
       "      <td>32852346</td>\n",
       "      <td>26273668433</td>\n",
       "    </tr>\n",
       "    <tr>\n",
       "      <th>5</th>\n",
       "      <td>6th</td>\n",
       "      <td>A++</td>\n",
       "      <td>Movieclips</td>\n",
       "      <td>30243</td>\n",
       "      <td>17149705</td>\n",
       "      <td>16618094724</td>\n",
       "    </tr>\n",
       "    <tr>\n",
       "      <th>6</th>\n",
       "      <td>7th</td>\n",
       "      <td>A++</td>\n",
       "      <td>netd müzik</td>\n",
       "      <td>8500</td>\n",
       "      <td>11373567</td>\n",
       "      <td>23898730764</td>\n",
       "    </tr>\n",
       "    <tr>\n",
       "      <th>7</th>\n",
       "      <td>8th</td>\n",
       "      <td>A++</td>\n",
       "      <td>ABS-CBN Entertainment</td>\n",
       "      <td>100147</td>\n",
       "      <td>12149206</td>\n",
       "      <td>17202609850</td>\n",
       "    </tr>\n",
       "    <tr>\n",
       "      <th>8</th>\n",
       "      <td>9th</td>\n",
       "      <td>A++</td>\n",
       "      <td>Ryan ToysReview</td>\n",
       "      <td>1140</td>\n",
       "      <td>16082927</td>\n",
       "      <td>24518098041</td>\n",
       "    </tr>\n",
       "    <tr>\n",
       "      <th>9</th>\n",
       "      <td>10th</td>\n",
       "      <td>A++</td>\n",
       "      <td>Zee Marathi</td>\n",
       "      <td>74607</td>\n",
       "      <td>2841811</td>\n",
       "      <td>2591830307</td>\n",
       "    </tr>\n",
       "  </tbody>\n",
       "</table>\n",
       "</div>"
      ],
      "text/plain": [
       "   Rank Grade                Channel name Video Uploads Subscribers  \\\n",
       "0   1st  A++                       Zee TV         82757    18752951   \n",
       "1   2nd  A++                     T-Series         12661    61196302   \n",
       "2   3rd  A++   Cocomelon - Nursery Rhymes           373    19238251   \n",
       "3   4th  A++                    SET India         27323    31180559   \n",
       "4   5th  A++                          WWE         36756    32852346   \n",
       "5   6th  A++                   Movieclips         30243    17149705   \n",
       "6   7th  A++                   netd müzik          8500    11373567   \n",
       "7   8th  A++        ABS-CBN Entertainment        100147    12149206   \n",
       "8   9th  A++              Ryan ToysReview          1140    16082927   \n",
       "9  10th  A++                  Zee Marathi         74607     2841811   \n",
       "\n",
       "   Video views  \n",
       "0  20869786591  \n",
       "1  47548839843  \n",
       "2   9793305082  \n",
       "3  22675948293  \n",
       "4  26273668433  \n",
       "5  16618094724  \n",
       "6  23898730764  \n",
       "7  17202609850  \n",
       "8  24518098041  \n",
       "9   2591830307  "
      ]
     },
     "execution_count": 4,
     "metadata": {},
     "output_type": "execute_result"
    }
   ],
   "source": [
    "data.head(10)"
   ]
  },
  {
   "cell_type": "code",
   "execution_count": 5,
   "metadata": {},
   "outputs": [
    {
     "data": {
      "text/html": [
       "<div>\n",
       "<style scoped>\n",
       "    .dataframe tbody tr th:only-of-type {\n",
       "        vertical-align: middle;\n",
       "    }\n",
       "\n",
       "    .dataframe tbody tr th {\n",
       "        vertical-align: top;\n",
       "    }\n",
       "\n",
       "    .dataframe thead th {\n",
       "        text-align: right;\n",
       "    }\n",
       "</style>\n",
       "<table border=\"1\" class=\"dataframe\">\n",
       "  <thead>\n",
       "    <tr style=\"text-align: right;\">\n",
       "      <th></th>\n",
       "      <th>Rank</th>\n",
       "      <th>Grade</th>\n",
       "      <th>Channel name</th>\n",
       "      <th>Video Uploads</th>\n",
       "      <th>Subscribers</th>\n",
       "      <th>Video views</th>\n",
       "    </tr>\n",
       "  </thead>\n",
       "  <tbody>\n",
       "    <tr>\n",
       "      <th>4990</th>\n",
       "      <td>4,991st</td>\n",
       "      <td>B+</td>\n",
       "      <td>Ho Ngoc Ha's Official Channel</td>\n",
       "      <td>208</td>\n",
       "      <td>--</td>\n",
       "      <td>127185704</td>\n",
       "    </tr>\n",
       "    <tr>\n",
       "      <th>4991</th>\n",
       "      <td>4,992nd</td>\n",
       "      <td>B+</td>\n",
       "      <td>Toys to Learn Colors</td>\n",
       "      <td>11</td>\n",
       "      <td>663114</td>\n",
       "      <td>141933264</td>\n",
       "    </tr>\n",
       "    <tr>\n",
       "      <th>4992</th>\n",
       "      <td>4,993rd</td>\n",
       "      <td>B+</td>\n",
       "      <td>КАZКА</td>\n",
       "      <td>25</td>\n",
       "      <td>131766</td>\n",
       "      <td>74304638</td>\n",
       "    </tr>\n",
       "    <tr>\n",
       "      <th>4993</th>\n",
       "      <td>4,994th</td>\n",
       "      <td>B+</td>\n",
       "      <td>United CUBE (CUBE Entertainment…</td>\n",
       "      <td>1055</td>\n",
       "      <td>1586835</td>\n",
       "      <td>371299166</td>\n",
       "    </tr>\n",
       "    <tr>\n",
       "      <th>4994</th>\n",
       "      <td>4,995th</td>\n",
       "      <td>B+</td>\n",
       "      <td>Wings Marathi</td>\n",
       "      <td>1735</td>\n",
       "      <td>1099659</td>\n",
       "      <td>346175699</td>\n",
       "    </tr>\n",
       "    <tr>\n",
       "      <th>4995</th>\n",
       "      <td>4,996th</td>\n",
       "      <td>B+</td>\n",
       "      <td>Uras Benlioğlu</td>\n",
       "      <td>706</td>\n",
       "      <td>2072942</td>\n",
       "      <td>441202795</td>\n",
       "    </tr>\n",
       "    <tr>\n",
       "      <th>4996</th>\n",
       "      <td>4,997th</td>\n",
       "      <td>B+</td>\n",
       "      <td>HI-TECH MUSIC LTD</td>\n",
       "      <td>797</td>\n",
       "      <td>1055091</td>\n",
       "      <td>377331722</td>\n",
       "    </tr>\n",
       "    <tr>\n",
       "      <th>4997</th>\n",
       "      <td>4,998th</td>\n",
       "      <td>B+</td>\n",
       "      <td>Mastersaint</td>\n",
       "      <td>110</td>\n",
       "      <td>3265735</td>\n",
       "      <td>311758426</td>\n",
       "    </tr>\n",
       "    <tr>\n",
       "      <th>4998</th>\n",
       "      <td>4,999th</td>\n",
       "      <td>B+</td>\n",
       "      <td>Bruce McIntosh</td>\n",
       "      <td>3475</td>\n",
       "      <td>32990</td>\n",
       "      <td>14563764</td>\n",
       "    </tr>\n",
       "    <tr>\n",
       "      <th>4999</th>\n",
       "      <td>5,000th</td>\n",
       "      <td>B+</td>\n",
       "      <td>SehatAQUA</td>\n",
       "      <td>254</td>\n",
       "      <td>21172</td>\n",
       "      <td>73312511</td>\n",
       "    </tr>\n",
       "  </tbody>\n",
       "</table>\n",
       "</div>"
      ],
      "text/plain": [
       "         Rank Grade                      Channel name Video Uploads  \\\n",
       "4990  4,991st   B+      Ho Ngoc Ha's Official Channel           208   \n",
       "4991  4,992nd   B+               Toys to Learn Colors            11   \n",
       "4992  4,993rd   B+                              КАZКА            25   \n",
       "4993  4,994th   B+   United CUBE (CUBE Entertainment…          1055   \n",
       "4994  4,995th   B+                      Wings Marathi          1735   \n",
       "4995  4,996th   B+                     Uras Benlioğlu           706   \n",
       "4996  4,997th   B+                  HI-TECH MUSIC LTD           797   \n",
       "4997  4,998th   B+                        Mastersaint           110   \n",
       "4998  4,999th   B+                     Bruce McIntosh          3475   \n",
       "4999  5,000th   B+                          SehatAQUA           254   \n",
       "\n",
       "     Subscribers  Video views  \n",
       "4990         --     127185704  \n",
       "4991      663114    141933264  \n",
       "4992      131766     74304638  \n",
       "4993     1586835    371299166  \n",
       "4994     1099659    346175699  \n",
       "4995     2072942    441202795  \n",
       "4996     1055091    377331722  \n",
       "4997     3265735    311758426  \n",
       "4998       32990     14563764  \n",
       "4999       21172     73312511  "
      ]
     },
     "execution_count": 5,
     "metadata": {},
     "output_type": "execute_result"
    }
   ],
   "source": [
    "data.tail(10)"
   ]
  },
  {
   "cell_type": "code",
   "execution_count": 6,
   "metadata": {},
   "outputs": [
    {
     "data": {
      "text/plain": [
       "(5000, 6)"
      ]
     },
     "execution_count": 6,
     "metadata": {},
     "output_type": "execute_result"
    }
   ],
   "source": [
    "data.shape"
   ]
  },
  {
   "cell_type": "code",
   "execution_count": 7,
   "metadata": {},
   "outputs": [
    {
     "name": "stdout",
     "output_type": "stream",
     "text": [
      "Number of rows: 5000\n",
      "Number of columns: 6\n"
     ]
    }
   ],
   "source": [
    "print(\"Number of rows:\",data.shape[0])\n",
    "print(\"Number of columns:\",data.shape[1])"
   ]
  },
  {
   "cell_type": "code",
   "execution_count": 8,
   "metadata": {},
   "outputs": [
    {
     "name": "stdout",
     "output_type": "stream",
     "text": [
      "<class 'pandas.core.frame.DataFrame'>\n",
      "RangeIndex: 5000 entries, 0 to 4999\n",
      "Data columns (total 6 columns):\n",
      " #   Column         Non-Null Count  Dtype \n",
      "---  ------         --------------  ----- \n",
      " 0   Rank           5000 non-null   object\n",
      " 1   Grade          5000 non-null   object\n",
      " 2   Channel name   5000 non-null   object\n",
      " 3   Video Uploads  5000 non-null   object\n",
      " 4   Subscribers    5000 non-null   object\n",
      " 5   Video views    5000 non-null   int64 \n",
      "dtypes: int64(1), object(5)\n",
      "memory usage: 234.5+ KB\n"
     ]
    }
   ],
   "source": [
    "data.info()"
   ]
  },
  {
   "cell_type": "code",
   "execution_count": 10,
   "metadata": {},
   "outputs": [],
   "source": [
    "pd.options.display.float_format = \"{:.2f}\".format"
   ]
  },
  {
   "cell_type": "code",
   "execution_count": 11,
   "metadata": {},
   "outputs": [
    {
     "data": {
      "text/html": [
       "<div>\n",
       "<style scoped>\n",
       "    .dataframe tbody tr th:only-of-type {\n",
       "        vertical-align: middle;\n",
       "    }\n",
       "\n",
       "    .dataframe tbody tr th {\n",
       "        vertical-align: top;\n",
       "    }\n",
       "\n",
       "    .dataframe thead th {\n",
       "        text-align: right;\n",
       "    }\n",
       "</style>\n",
       "<table border=\"1\" class=\"dataframe\">\n",
       "  <thead>\n",
       "    <tr style=\"text-align: right;\">\n",
       "      <th></th>\n",
       "      <th>Video views</th>\n",
       "    </tr>\n",
       "  </thead>\n",
       "  <tbody>\n",
       "    <tr>\n",
       "      <th>count</th>\n",
       "      <td>5000.00</td>\n",
       "    </tr>\n",
       "    <tr>\n",
       "      <th>mean</th>\n",
       "      <td>1071449400.15</td>\n",
       "    </tr>\n",
       "    <tr>\n",
       "      <th>std</th>\n",
       "      <td>2003843972.12</td>\n",
       "    </tr>\n",
       "    <tr>\n",
       "      <th>min</th>\n",
       "      <td>75.00</td>\n",
       "    </tr>\n",
       "    <tr>\n",
       "      <th>25%</th>\n",
       "      <td>186232945.75</td>\n",
       "    </tr>\n",
       "    <tr>\n",
       "      <th>50%</th>\n",
       "      <td>482054780.00</td>\n",
       "    </tr>\n",
       "    <tr>\n",
       "      <th>75%</th>\n",
       "      <td>1124367826.75</td>\n",
       "    </tr>\n",
       "    <tr>\n",
       "      <th>max</th>\n",
       "      <td>47548839843.00</td>\n",
       "    </tr>\n",
       "  </tbody>\n",
       "</table>\n",
       "</div>"
      ],
      "text/plain": [
       "         Video views\n",
       "count        5000.00\n",
       "mean   1071449400.15\n",
       "std    2003843972.12\n",
       "min            75.00\n",
       "25%     186232945.75\n",
       "50%     482054780.00\n",
       "75%    1124367826.75\n",
       "max   47548839843.00"
      ]
     },
     "execution_count": 11,
     "metadata": {},
     "output_type": "execute_result"
    }
   ],
   "source": [
    "data.describe()"
   ]
  },
  {
   "cell_type": "code",
   "execution_count": 13,
   "metadata": {},
   "outputs": [
    {
     "data": {
      "text/html": [
       "<div>\n",
       "<style scoped>\n",
       "    .dataframe tbody tr th:only-of-type {\n",
       "        vertical-align: middle;\n",
       "    }\n",
       "\n",
       "    .dataframe tbody tr th {\n",
       "        vertical-align: top;\n",
       "    }\n",
       "\n",
       "    .dataframe thead th {\n",
       "        text-align: right;\n",
       "    }\n",
       "</style>\n",
       "<table border=\"1\" class=\"dataframe\">\n",
       "  <thead>\n",
       "    <tr style=\"text-align: right;\">\n",
       "      <th></th>\n",
       "      <th>Rank</th>\n",
       "      <th>Grade</th>\n",
       "      <th>Channel name</th>\n",
       "      <th>Video Uploads</th>\n",
       "      <th>Subscribers</th>\n",
       "      <th>Video views</th>\n",
       "    </tr>\n",
       "  </thead>\n",
       "  <tbody>\n",
       "    <tr>\n",
       "      <th>0</th>\n",
       "      <td>1st</td>\n",
       "      <td>A++</td>\n",
       "      <td>Zee TV</td>\n",
       "      <td>82757</td>\n",
       "      <td>18752951</td>\n",
       "      <td>20869786591</td>\n",
       "    </tr>\n",
       "    <tr>\n",
       "      <th>1</th>\n",
       "      <td>2nd</td>\n",
       "      <td>A++</td>\n",
       "      <td>T-Series</td>\n",
       "      <td>12661</td>\n",
       "      <td>61196302</td>\n",
       "      <td>47548839843</td>\n",
       "    </tr>\n",
       "    <tr>\n",
       "      <th>2</th>\n",
       "      <td>3rd</td>\n",
       "      <td>A++</td>\n",
       "      <td>Cocomelon - Nursery Rhymes</td>\n",
       "      <td>373</td>\n",
       "      <td>19238251</td>\n",
       "      <td>9793305082</td>\n",
       "    </tr>\n",
       "    <tr>\n",
       "      <th>3</th>\n",
       "      <td>4th</td>\n",
       "      <td>A++</td>\n",
       "      <td>SET India</td>\n",
       "      <td>27323</td>\n",
       "      <td>31180559</td>\n",
       "      <td>22675948293</td>\n",
       "    </tr>\n",
       "    <tr>\n",
       "      <th>4</th>\n",
       "      <td>5th</td>\n",
       "      <td>A++</td>\n",
       "      <td>WWE</td>\n",
       "      <td>36756</td>\n",
       "      <td>32852346</td>\n",
       "      <td>26273668433</td>\n",
       "    </tr>\n",
       "    <tr>\n",
       "      <th>5</th>\n",
       "      <td>6th</td>\n",
       "      <td>A++</td>\n",
       "      <td>Movieclips</td>\n",
       "      <td>30243</td>\n",
       "      <td>17149705</td>\n",
       "      <td>16618094724</td>\n",
       "    </tr>\n",
       "    <tr>\n",
       "      <th>6</th>\n",
       "      <td>7th</td>\n",
       "      <td>A++</td>\n",
       "      <td>netd müzik</td>\n",
       "      <td>8500</td>\n",
       "      <td>11373567</td>\n",
       "      <td>23898730764</td>\n",
       "    </tr>\n",
       "    <tr>\n",
       "      <th>7</th>\n",
       "      <td>8th</td>\n",
       "      <td>A++</td>\n",
       "      <td>ABS-CBN Entertainment</td>\n",
       "      <td>100147</td>\n",
       "      <td>12149206</td>\n",
       "      <td>17202609850</td>\n",
       "    </tr>\n",
       "    <tr>\n",
       "      <th>8</th>\n",
       "      <td>9th</td>\n",
       "      <td>A++</td>\n",
       "      <td>Ryan ToysReview</td>\n",
       "      <td>1140</td>\n",
       "      <td>16082927</td>\n",
       "      <td>24518098041</td>\n",
       "    </tr>\n",
       "    <tr>\n",
       "      <th>9</th>\n",
       "      <td>10th</td>\n",
       "      <td>A++</td>\n",
       "      <td>Zee Marathi</td>\n",
       "      <td>74607</td>\n",
       "      <td>2841811</td>\n",
       "      <td>2591830307</td>\n",
       "    </tr>\n",
       "    <tr>\n",
       "      <th>10</th>\n",
       "      <td>11th</td>\n",
       "      <td>A+</td>\n",
       "      <td>5-Minute Crafts</td>\n",
       "      <td>2085</td>\n",
       "      <td>33492951</td>\n",
       "      <td>8587520379</td>\n",
       "    </tr>\n",
       "    <tr>\n",
       "      <th>11</th>\n",
       "      <td>12th</td>\n",
       "      <td>A+</td>\n",
       "      <td>Canal KondZilla</td>\n",
       "      <td>822</td>\n",
       "      <td>39409726</td>\n",
       "      <td>19291034467</td>\n",
       "    </tr>\n",
       "    <tr>\n",
       "      <th>12</th>\n",
       "      <td>13th</td>\n",
       "      <td>A+</td>\n",
       "      <td>Like Nastya Vlog</td>\n",
       "      <td>150</td>\n",
       "      <td>7662886</td>\n",
       "      <td>2540099931</td>\n",
       "    </tr>\n",
       "    <tr>\n",
       "      <th>13</th>\n",
       "      <td>14th</td>\n",
       "      <td>A+</td>\n",
       "      <td>Ozuna</td>\n",
       "      <td>50</td>\n",
       "      <td>18824912</td>\n",
       "      <td>8727783225</td>\n",
       "    </tr>\n",
       "    <tr>\n",
       "      <th>14</th>\n",
       "      <td>15th</td>\n",
       "      <td>A+</td>\n",
       "      <td>Wave Music</td>\n",
       "      <td>16119</td>\n",
       "      <td>15899764</td>\n",
       "      <td>10989179147</td>\n",
       "    </tr>\n",
       "    <tr>\n",
       "      <th>15</th>\n",
       "      <td>16th</td>\n",
       "      <td>A+</td>\n",
       "      <td>Ch3Thailand</td>\n",
       "      <td>49239</td>\n",
       "      <td>11569723</td>\n",
       "      <td>9388600275</td>\n",
       "    </tr>\n",
       "    <tr>\n",
       "      <th>16</th>\n",
       "      <td>17th</td>\n",
       "      <td>A+</td>\n",
       "      <td>WORLDSTARHIPHOP</td>\n",
       "      <td>4778</td>\n",
       "      <td>15830098</td>\n",
       "      <td>11102158475</td>\n",
       "    </tr>\n",
       "    <tr>\n",
       "      <th>17</th>\n",
       "      <td>18th</td>\n",
       "      <td>A+</td>\n",
       "      <td>Vlad and Nikita</td>\n",
       "      <td>53</td>\n",
       "      <td>--</td>\n",
       "      <td>1428274554</td>\n",
       "    </tr>\n",
       "    <tr>\n",
       "      <th>18</th>\n",
       "      <td>19th</td>\n",
       "      <td>A+</td>\n",
       "      <td>Badabun</td>\n",
       "      <td>3060</td>\n",
       "      <td>23603062</td>\n",
       "      <td>5860444053</td>\n",
       "    </tr>\n",
       "    <tr>\n",
       "      <th>19</th>\n",
       "      <td>20th</td>\n",
       "      <td>A+</td>\n",
       "      <td>WorkpointOfficial</td>\n",
       "      <td>24287</td>\n",
       "      <td>17687229</td>\n",
       "      <td>14022189654</td>\n",
       "    </tr>\n",
       "  </tbody>\n",
       "</table>\n",
       "</div>"
      ],
      "text/plain": [
       "    Rank Grade                Channel name Video Uploads Subscribers  \\\n",
       "0    1st  A++                       Zee TV         82757    18752951   \n",
       "1    2nd  A++                     T-Series         12661    61196302   \n",
       "2    3rd  A++   Cocomelon - Nursery Rhymes           373    19238251   \n",
       "3    4th  A++                    SET India         27323    31180559   \n",
       "4    5th  A++                          WWE         36756    32852346   \n",
       "5    6th  A++                   Movieclips         30243    17149705   \n",
       "6    7th  A++                   netd müzik          8500    11373567   \n",
       "7    8th  A++        ABS-CBN Entertainment        100147    12149206   \n",
       "8    9th  A++              Ryan ToysReview          1140    16082927   \n",
       "9   10th  A++                  Zee Marathi         74607     2841811   \n",
       "10  11th   A+              5-Minute Crafts          2085    33492951   \n",
       "11  12th   A+              Canal KondZilla           822    39409726   \n",
       "12  13th   A+             Like Nastya Vlog           150     7662886   \n",
       "13  14th   A+                        Ozuna            50    18824912   \n",
       "14  15th   A+                   Wave Music         16119    15899764   \n",
       "15  16th   A+                  Ch3Thailand         49239    11569723   \n",
       "16  17th   A+              WORLDSTARHIPHOP          4778    15830098   \n",
       "17  18th   A+              Vlad and Nikita            53         --    \n",
       "18  19th   A+                      Badabun          3060    23603062   \n",
       "19  20th   A+            WorkpointOfficial         24287    17687229   \n",
       "\n",
       "    Video views  \n",
       "0   20869786591  \n",
       "1   47548839843  \n",
       "2    9793305082  \n",
       "3   22675948293  \n",
       "4   26273668433  \n",
       "5   16618094724  \n",
       "6   23898730764  \n",
       "7   17202609850  \n",
       "8   24518098041  \n",
       "9    2591830307  \n",
       "10   8587520379  \n",
       "11  19291034467  \n",
       "12   2540099931  \n",
       "13   8727783225  \n",
       "14  10989179147  \n",
       "15   9388600275  \n",
       "16  11102158475  \n",
       "17   1428274554  \n",
       "18   5860444053  \n",
       "19  14022189654  "
      ]
     },
     "execution_count": 13,
     "metadata": {},
     "output_type": "execute_result"
    }
   ],
   "source": [
    "data.head(20)"
   ]
  },
  {
   "cell_type": "code",
   "execution_count": 14,
   "metadata": {},
   "outputs": [],
   "source": [
    "# data cleaning (replace '--' to NaN)\n",
    "\n",
    "import numpy as np\n"
   ]
  },
  {
   "cell_type": "code",
   "execution_count": 16,
   "metadata": {},
   "outputs": [],
   "source": [
    "data = data.replace(\"--\",np.nan,regex=True)"
   ]
  },
  {
   "cell_type": "code",
   "execution_count": 17,
   "metadata": {},
   "outputs": [
    {
     "data": {
      "text/html": [
       "<div>\n",
       "<style scoped>\n",
       "    .dataframe tbody tr th:only-of-type {\n",
       "        vertical-align: middle;\n",
       "    }\n",
       "\n",
       "    .dataframe tbody tr th {\n",
       "        vertical-align: top;\n",
       "    }\n",
       "\n",
       "    .dataframe thead th {\n",
       "        text-align: right;\n",
       "    }\n",
       "</style>\n",
       "<table border=\"1\" class=\"dataframe\">\n",
       "  <thead>\n",
       "    <tr style=\"text-align: right;\">\n",
       "      <th></th>\n",
       "      <th>Rank</th>\n",
       "      <th>Grade</th>\n",
       "      <th>Channel name</th>\n",
       "      <th>Video Uploads</th>\n",
       "      <th>Subscribers</th>\n",
       "      <th>Video views</th>\n",
       "    </tr>\n",
       "  </thead>\n",
       "  <tbody>\n",
       "    <tr>\n",
       "      <th>0</th>\n",
       "      <td>1st</td>\n",
       "      <td>A++</td>\n",
       "      <td>Zee TV</td>\n",
       "      <td>82757</td>\n",
       "      <td>18752951</td>\n",
       "      <td>20869786591</td>\n",
       "    </tr>\n",
       "    <tr>\n",
       "      <th>1</th>\n",
       "      <td>2nd</td>\n",
       "      <td>A++</td>\n",
       "      <td>T-Series</td>\n",
       "      <td>12661</td>\n",
       "      <td>61196302</td>\n",
       "      <td>47548839843</td>\n",
       "    </tr>\n",
       "    <tr>\n",
       "      <th>2</th>\n",
       "      <td>3rd</td>\n",
       "      <td>A++</td>\n",
       "      <td>Cocomelon - Nursery Rhymes</td>\n",
       "      <td>373</td>\n",
       "      <td>19238251</td>\n",
       "      <td>9793305082</td>\n",
       "    </tr>\n",
       "    <tr>\n",
       "      <th>3</th>\n",
       "      <td>4th</td>\n",
       "      <td>A++</td>\n",
       "      <td>SET India</td>\n",
       "      <td>27323</td>\n",
       "      <td>31180559</td>\n",
       "      <td>22675948293</td>\n",
       "    </tr>\n",
       "    <tr>\n",
       "      <th>4</th>\n",
       "      <td>5th</td>\n",
       "      <td>A++</td>\n",
       "      <td>WWE</td>\n",
       "      <td>36756</td>\n",
       "      <td>32852346</td>\n",
       "      <td>26273668433</td>\n",
       "    </tr>\n",
       "    <tr>\n",
       "      <th>5</th>\n",
       "      <td>6th</td>\n",
       "      <td>A++</td>\n",
       "      <td>Movieclips</td>\n",
       "      <td>30243</td>\n",
       "      <td>17149705</td>\n",
       "      <td>16618094724</td>\n",
       "    </tr>\n",
       "    <tr>\n",
       "      <th>6</th>\n",
       "      <td>7th</td>\n",
       "      <td>A++</td>\n",
       "      <td>netd müzik</td>\n",
       "      <td>8500</td>\n",
       "      <td>11373567</td>\n",
       "      <td>23898730764</td>\n",
       "    </tr>\n",
       "    <tr>\n",
       "      <th>7</th>\n",
       "      <td>8th</td>\n",
       "      <td>A++</td>\n",
       "      <td>ABS-CBN Entertainment</td>\n",
       "      <td>100147</td>\n",
       "      <td>12149206</td>\n",
       "      <td>17202609850</td>\n",
       "    </tr>\n",
       "    <tr>\n",
       "      <th>8</th>\n",
       "      <td>9th</td>\n",
       "      <td>A++</td>\n",
       "      <td>Ryan ToysReview</td>\n",
       "      <td>1140</td>\n",
       "      <td>16082927</td>\n",
       "      <td>24518098041</td>\n",
       "    </tr>\n",
       "    <tr>\n",
       "      <th>9</th>\n",
       "      <td>10th</td>\n",
       "      <td>A++</td>\n",
       "      <td>Zee Marathi</td>\n",
       "      <td>74607</td>\n",
       "      <td>2841811</td>\n",
       "      <td>2591830307</td>\n",
       "    </tr>\n",
       "    <tr>\n",
       "      <th>10</th>\n",
       "      <td>11th</td>\n",
       "      <td>A+</td>\n",
       "      <td>5-Minute Crafts</td>\n",
       "      <td>2085</td>\n",
       "      <td>33492951</td>\n",
       "      <td>8587520379</td>\n",
       "    </tr>\n",
       "    <tr>\n",
       "      <th>11</th>\n",
       "      <td>12th</td>\n",
       "      <td>A+</td>\n",
       "      <td>Canal KondZilla</td>\n",
       "      <td>822</td>\n",
       "      <td>39409726</td>\n",
       "      <td>19291034467</td>\n",
       "    </tr>\n",
       "    <tr>\n",
       "      <th>12</th>\n",
       "      <td>13th</td>\n",
       "      <td>A+</td>\n",
       "      <td>Like Nastya Vlog</td>\n",
       "      <td>150</td>\n",
       "      <td>7662886</td>\n",
       "      <td>2540099931</td>\n",
       "    </tr>\n",
       "    <tr>\n",
       "      <th>13</th>\n",
       "      <td>14th</td>\n",
       "      <td>A+</td>\n",
       "      <td>Ozuna</td>\n",
       "      <td>50</td>\n",
       "      <td>18824912</td>\n",
       "      <td>8727783225</td>\n",
       "    </tr>\n",
       "    <tr>\n",
       "      <th>14</th>\n",
       "      <td>15th</td>\n",
       "      <td>A+</td>\n",
       "      <td>Wave Music</td>\n",
       "      <td>16119</td>\n",
       "      <td>15899764</td>\n",
       "      <td>10989179147</td>\n",
       "    </tr>\n",
       "    <tr>\n",
       "      <th>15</th>\n",
       "      <td>16th</td>\n",
       "      <td>A+</td>\n",
       "      <td>Ch3Thailand</td>\n",
       "      <td>49239</td>\n",
       "      <td>11569723</td>\n",
       "      <td>9388600275</td>\n",
       "    </tr>\n",
       "    <tr>\n",
       "      <th>16</th>\n",
       "      <td>17th</td>\n",
       "      <td>A+</td>\n",
       "      <td>WORLDSTARHIPHOP</td>\n",
       "      <td>4778</td>\n",
       "      <td>15830098</td>\n",
       "      <td>11102158475</td>\n",
       "    </tr>\n",
       "    <tr>\n",
       "      <th>17</th>\n",
       "      <td>18th</td>\n",
       "      <td>A+</td>\n",
       "      <td>Vlad and Nikita</td>\n",
       "      <td>53</td>\n",
       "      <td>NaN</td>\n",
       "      <td>1428274554</td>\n",
       "    </tr>\n",
       "    <tr>\n",
       "      <th>18</th>\n",
       "      <td>19th</td>\n",
       "      <td>A+</td>\n",
       "      <td>Badabun</td>\n",
       "      <td>3060</td>\n",
       "      <td>23603062</td>\n",
       "      <td>5860444053</td>\n",
       "    </tr>\n",
       "    <tr>\n",
       "      <th>19</th>\n",
       "      <td>20th</td>\n",
       "      <td>A+</td>\n",
       "      <td>WorkpointOfficial</td>\n",
       "      <td>24287</td>\n",
       "      <td>17687229</td>\n",
       "      <td>14022189654</td>\n",
       "    </tr>\n",
       "  </tbody>\n",
       "</table>\n",
       "</div>"
      ],
      "text/plain": [
       "    Rank Grade                Channel name Video Uploads Subscribers  \\\n",
       "0    1st  A++                       Zee TV         82757    18752951   \n",
       "1    2nd  A++                     T-Series         12661    61196302   \n",
       "2    3rd  A++   Cocomelon - Nursery Rhymes           373    19238251   \n",
       "3    4th  A++                    SET India         27323    31180559   \n",
       "4    5th  A++                          WWE         36756    32852346   \n",
       "5    6th  A++                   Movieclips         30243    17149705   \n",
       "6    7th  A++                   netd müzik          8500    11373567   \n",
       "7    8th  A++        ABS-CBN Entertainment        100147    12149206   \n",
       "8    9th  A++              Ryan ToysReview          1140    16082927   \n",
       "9   10th  A++                  Zee Marathi         74607     2841811   \n",
       "10  11th   A+              5-Minute Crafts          2085    33492951   \n",
       "11  12th   A+              Canal KondZilla           822    39409726   \n",
       "12  13th   A+             Like Nastya Vlog           150     7662886   \n",
       "13  14th   A+                        Ozuna            50    18824912   \n",
       "14  15th   A+                   Wave Music         16119    15899764   \n",
       "15  16th   A+                  Ch3Thailand         49239    11569723   \n",
       "16  17th   A+              WORLDSTARHIPHOP          4778    15830098   \n",
       "17  18th   A+              Vlad and Nikita            53         NaN   \n",
       "18  19th   A+                      Badabun          3060    23603062   \n",
       "19  20th   A+            WorkpointOfficial         24287    17687229   \n",
       "\n",
       "    Video views  \n",
       "0   20869786591  \n",
       "1   47548839843  \n",
       "2    9793305082  \n",
       "3   22675948293  \n",
       "4   26273668433  \n",
       "5   16618094724  \n",
       "6   23898730764  \n",
       "7   17202609850  \n",
       "8   24518098041  \n",
       "9    2591830307  \n",
       "10   8587520379  \n",
       "11  19291034467  \n",
       "12   2540099931  \n",
       "13   8727783225  \n",
       "14  10989179147  \n",
       "15   9388600275  \n",
       "16  11102158475  \n",
       "17   1428274554  \n",
       "18   5860444053  \n",
       "19  14022189654  "
      ]
     },
     "execution_count": 17,
     "metadata": {},
     "output_type": "execute_result"
    }
   ],
   "source": [
    "data.head(20)"
   ]
  },
  {
   "cell_type": "code",
   "execution_count": 18,
   "metadata": {},
   "outputs": [
    {
     "data": {
      "text/plain": [
       "Rank               0\n",
       "Grade              0\n",
       "Channel name       0\n",
       "Video Uploads      6\n",
       "Subscribers      387\n",
       "Video views        0\n",
       "dtype: int64"
      ]
     },
     "execution_count": 18,
     "metadata": {},
     "output_type": "execute_result"
    }
   ],
   "source": [
    "data.isnull().sum()"
   ]
  },
  {
   "cell_type": "code",
   "execution_count": 19,
   "metadata": {},
   "outputs": [],
   "source": [
    "per_missing = data.isnull().sum() * 100 / len(data)"
   ]
  },
  {
   "cell_type": "code",
   "execution_count": 20,
   "metadata": {},
   "outputs": [
    {
     "data": {
      "text/plain": [
       "Rank            0.00\n",
       "Grade           0.00\n",
       "Channel name    0.00\n",
       "Video Uploads   0.12\n",
       "Subscribers     7.74\n",
       "Video views     0.00\n",
       "dtype: float64"
      ]
     },
     "execution_count": 20,
     "metadata": {},
     "output_type": "execute_result"
    }
   ],
   "source": [
    "per_missing"
   ]
  },
  {
   "cell_type": "code",
   "execution_count": 21,
   "metadata": {},
   "outputs": [
    {
     "data": {
      "text/plain": [
       "<Axes: >"
      ]
     },
     "execution_count": 21,
     "metadata": {},
     "output_type": "execute_result"
    },
    {
     "data": {
      "image/png": "[encoded data removed]",
      "text/plain": [
       "<Figure size 640x480 with 2 Axes>"
      ]
     },
     "metadata": {},
     "output_type": "display_data"
    }
   ],
   "source": [
    "sns.heatmap(data.isnull())"
   ]
  },
  {
   "cell_type": "code",
   "execution_count": 22,
   "metadata": {},
   "outputs": [],
   "source": [
    "data.dropna(axis=0,inplace=True)"
   ]
  },
  {
   "cell_type": "code",
   "execution_count": 23,
   "metadata": {},
   "outputs": [
    {
     "data": {
      "text/plain": [
       "<Axes: >"
      ]
     },
     "execution_count": 23,
     "metadata": {},
     "output_type": "execute_result"
    },
    {
     "data": {
      "image/png": "[encoded data removed]",
      "text/plain": [
       "<Figure size 640x480 with 2 Axes>"
      ]
     },
     "metadata": {},
     "output_type": "display_data"
    }
   ],
   "source": [
    "sns.heatmap(data.isnull())"
   ]
  },
  {
   "cell_type": "markdown",
   "metadata": {},
   "source": [
    "data cleaning [Rank column]"
   ]
  },
  {
   "cell_type": "code",
   "execution_count": 24,
   "metadata": {},
   "outputs": [
    {
     "data": {
      "text/html": [
       "<div>\n",
       "<style scoped>\n",
       "    .dataframe tbody tr th:only-of-type {\n",
       "        vertical-align: middle;\n",
       "    }\n",
       "\n",
       "    .dataframe tbody tr th {\n",
       "        vertical-align: top;\n",
       "    }\n",
       "\n",
       "    .dataframe thead th {\n",
       "        text-align: right;\n",
       "    }\n",
       "</style>\n",
       "<table border=\"1\" class=\"dataframe\">\n",
       "  <thead>\n",
       "    <tr style=\"text-align: right;\">\n",
       "      <th></th>\n",
       "      <th>Rank</th>\n",
       "      <th>Grade</th>\n",
       "      <th>Channel name</th>\n",
       "      <th>Video Uploads</th>\n",
       "      <th>Subscribers</th>\n",
       "      <th>Video views</th>\n",
       "    </tr>\n",
       "  </thead>\n",
       "  <tbody>\n",
       "    <tr>\n",
       "      <th>0</th>\n",
       "      <td>1st</td>\n",
       "      <td>A++</td>\n",
       "      <td>Zee TV</td>\n",
       "      <td>82757</td>\n",
       "      <td>18752951</td>\n",
       "      <td>20869786591</td>\n",
       "    </tr>\n",
       "    <tr>\n",
       "      <th>1</th>\n",
       "      <td>2nd</td>\n",
       "      <td>A++</td>\n",
       "      <td>T-Series</td>\n",
       "      <td>12661</td>\n",
       "      <td>61196302</td>\n",
       "      <td>47548839843</td>\n",
       "    </tr>\n",
       "    <tr>\n",
       "      <th>2</th>\n",
       "      <td>3rd</td>\n",
       "      <td>A++</td>\n",
       "      <td>Cocomelon - Nursery Rhymes</td>\n",
       "      <td>373</td>\n",
       "      <td>19238251</td>\n",
       "      <td>9793305082</td>\n",
       "    </tr>\n",
       "    <tr>\n",
       "      <th>3</th>\n",
       "      <td>4th</td>\n",
       "      <td>A++</td>\n",
       "      <td>SET India</td>\n",
       "      <td>27323</td>\n",
       "      <td>31180559</td>\n",
       "      <td>22675948293</td>\n",
       "    </tr>\n",
       "    <tr>\n",
       "      <th>4</th>\n",
       "      <td>5th</td>\n",
       "      <td>A++</td>\n",
       "      <td>WWE</td>\n",
       "      <td>36756</td>\n",
       "      <td>32852346</td>\n",
       "      <td>26273668433</td>\n",
       "    </tr>\n",
       "  </tbody>\n",
       "</table>\n",
       "</div>"
      ],
      "text/plain": [
       "  Rank Grade                Channel name Video Uploads Subscribers  \\\n",
       "0  1st  A++                       Zee TV         82757    18752951   \n",
       "1  2nd  A++                     T-Series         12661    61196302   \n",
       "2  3rd  A++   Cocomelon - Nursery Rhymes           373    19238251   \n",
       "3  4th  A++                    SET India         27323    31180559   \n",
       "4  5th  A++                          WWE         36756    32852346   \n",
       "\n",
       "   Video views  \n",
       "0  20869786591  \n",
       "1  47548839843  \n",
       "2   9793305082  \n",
       "3  22675948293  \n",
       "4  26273668433  "
      ]
     },
     "execution_count": 24,
     "metadata": {},
     "output_type": "execute_result"
    }
   ],
   "source": [
    "data.head()"
   ]
  },
  {
   "cell_type": "code",
   "execution_count": 25,
   "metadata": {},
   "outputs": [
    {
     "data": {
      "text/html": [
       "<div>\n",
       "<style scoped>\n",
       "    .dataframe tbody tr th:only-of-type {\n",
       "        vertical-align: middle;\n",
       "    }\n",
       "\n",
       "    .dataframe tbody tr th {\n",
       "        vertical-align: top;\n",
       "    }\n",
       "\n",
       "    .dataframe thead th {\n",
       "        text-align: right;\n",
       "    }\n",
       "</style>\n",
       "<table border=\"1\" class=\"dataframe\">\n",
       "  <thead>\n",
       "    <tr style=\"text-align: right;\">\n",
       "      <th></th>\n",
       "      <th>Rank</th>\n",
       "      <th>Grade</th>\n",
       "      <th>Channel name</th>\n",
       "      <th>Video Uploads</th>\n",
       "      <th>Subscribers</th>\n",
       "      <th>Video views</th>\n",
       "    </tr>\n",
       "  </thead>\n",
       "  <tbody>\n",
       "    <tr>\n",
       "      <th>4995</th>\n",
       "      <td>4,996th</td>\n",
       "      <td>B+</td>\n",
       "      <td>Uras Benlioğlu</td>\n",
       "      <td>706</td>\n",
       "      <td>2072942</td>\n",
       "      <td>441202795</td>\n",
       "    </tr>\n",
       "    <tr>\n",
       "      <th>4996</th>\n",
       "      <td>4,997th</td>\n",
       "      <td>B+</td>\n",
       "      <td>HI-TECH MUSIC LTD</td>\n",
       "      <td>797</td>\n",
       "      <td>1055091</td>\n",
       "      <td>377331722</td>\n",
       "    </tr>\n",
       "    <tr>\n",
       "      <th>4997</th>\n",
       "      <td>4,998th</td>\n",
       "      <td>B+</td>\n",
       "      <td>Mastersaint</td>\n",
       "      <td>110</td>\n",
       "      <td>3265735</td>\n",
       "      <td>311758426</td>\n",
       "    </tr>\n",
       "    <tr>\n",
       "      <th>4998</th>\n",
       "      <td>4,999th</td>\n",
       "      <td>B+</td>\n",
       "      <td>Bruce McIntosh</td>\n",
       "      <td>3475</td>\n",
       "      <td>32990</td>\n",
       "      <td>14563764</td>\n",
       "    </tr>\n",
       "    <tr>\n",
       "      <th>4999</th>\n",
       "      <td>5,000th</td>\n",
       "      <td>B+</td>\n",
       "      <td>SehatAQUA</td>\n",
       "      <td>254</td>\n",
       "      <td>21172</td>\n",
       "      <td>73312511</td>\n",
       "    </tr>\n",
       "  </tbody>\n",
       "</table>\n",
       "</div>"
      ],
      "text/plain": [
       "         Rank Grade       Channel name Video Uploads Subscribers  Video views\n",
       "4995  4,996th   B+      Uras Benlioğlu           706     2072942    441202795\n",
       "4996  4,997th   B+   HI-TECH MUSIC LTD           797     1055091    377331722\n",
       "4997  4,998th   B+         Mastersaint           110     3265735    311758426\n",
       "4998  4,999th   B+      Bruce McIntosh          3475       32990     14563764\n",
       "4999  5,000th   B+           SehatAQUA           254       21172     73312511"
      ]
     },
     "execution_count": 25,
     "metadata": {},
     "output_type": "execute_result"
    }
   ],
   "source": [
    "data.tail()"
   ]
  },
  {
   "cell_type": "code",
   "execution_count": 26,
   "metadata": {},
   "outputs": [
    {
     "data": {
      "text/plain": [
       "Rank             object\n",
       "Grade            object\n",
       "Channel name     object\n",
       "Video Uploads    object\n",
       "Subscribers      object\n",
       "Video views       int64\n",
       "dtype: object"
      ]
     },
     "execution_count": 26,
     "metadata": {},
     "output_type": "execute_result"
    }
   ],
   "source": [
    "data.dtypes"
   ]
  },
  {
   "cell_type": "code",
   "execution_count": 29,
   "metadata": {},
   "outputs": [],
   "source": [
    "data[\"Rank\"] = data[\"Rank\"].str[0:-2]"
   ]
  },
  {
   "cell_type": "code",
   "execution_count": 33,
   "metadata": {},
   "outputs": [],
   "source": [
    "data[\"Rank\"]=data[\"Rank\"].str.replace(',','').astype(\"int\")"
   ]
  },
  {
   "cell_type": "code",
   "execution_count": 34,
   "metadata": {},
   "outputs": [
    {
     "data": {
      "text/html": [
       "<div>\n",
       "<style scoped>\n",
       "    .dataframe tbody tr th:only-of-type {\n",
       "        vertical-align: middle;\n",
       "    }\n",
       "\n",
       "    .dataframe tbody tr th {\n",
       "        vertical-align: top;\n",
       "    }\n",
       "\n",
       "    .dataframe thead th {\n",
       "        text-align: right;\n",
       "    }\n",
       "</style>\n",
       "<table border=\"1\" class=\"dataframe\">\n",
       "  <thead>\n",
       "    <tr style=\"text-align: right;\">\n",
       "      <th></th>\n",
       "      <th>Rank</th>\n",
       "      <th>Grade</th>\n",
       "      <th>Channel name</th>\n",
       "      <th>Video Uploads</th>\n",
       "      <th>Subscribers</th>\n",
       "      <th>Video views</th>\n",
       "    </tr>\n",
       "  </thead>\n",
       "  <tbody>\n",
       "    <tr>\n",
       "      <th>4995</th>\n",
       "      <td>4996</td>\n",
       "      <td>B+</td>\n",
       "      <td>Uras Benlioğlu</td>\n",
       "      <td>706</td>\n",
       "      <td>2072942</td>\n",
       "      <td>441202795</td>\n",
       "    </tr>\n",
       "    <tr>\n",
       "      <th>4996</th>\n",
       "      <td>4997</td>\n",
       "      <td>B+</td>\n",
       "      <td>HI-TECH MUSIC LTD</td>\n",
       "      <td>797</td>\n",
       "      <td>1055091</td>\n",
       "      <td>377331722</td>\n",
       "    </tr>\n",
       "    <tr>\n",
       "      <th>4997</th>\n",
       "      <td>4998</td>\n",
       "      <td>B+</td>\n",
       "      <td>Mastersaint</td>\n",
       "      <td>110</td>\n",
       "      <td>3265735</td>\n",
       "      <td>311758426</td>\n",
       "    </tr>\n",
       "    <tr>\n",
       "      <th>4998</th>\n",
       "      <td>4999</td>\n",
       "      <td>B+</td>\n",
       "      <td>Bruce McIntosh</td>\n",
       "      <td>3475</td>\n",
       "      <td>32990</td>\n",
       "      <td>14563764</td>\n",
       "    </tr>\n",
       "    <tr>\n",
       "      <th>4999</th>\n",
       "      <td>5000</td>\n",
       "      <td>B+</td>\n",
       "      <td>SehatAQUA</td>\n",
       "      <td>254</td>\n",
       "      <td>21172</td>\n",
       "      <td>73312511</td>\n",
       "    </tr>\n",
       "  </tbody>\n",
       "</table>\n",
       "</div>"
      ],
      "text/plain": [
       "      Rank Grade       Channel name Video Uploads Subscribers  Video views\n",
       "4995  4996   B+      Uras Benlioğlu           706     2072942    441202795\n",
       "4996  4997   B+   HI-TECH MUSIC LTD           797     1055091    377331722\n",
       "4997  4998   B+         Mastersaint           110     3265735    311758426\n",
       "4998  4999   B+      Bruce McIntosh          3475       32990     14563764\n",
       "4999  5000   B+           SehatAQUA           254       21172     73312511"
      ]
     },
     "execution_count": 34,
     "metadata": {},
     "output_type": "execute_result"
    }
   ],
   "source": [
    "data.tail()"
   ]
  },
  {
   "cell_type": "code",
   "execution_count": 35,
   "metadata": {},
   "outputs": [
    {
     "data": {
      "text/plain": [
       "Rank              int64\n",
       "Grade            object\n",
       "Channel name     object\n",
       "Video Uploads    object\n",
       "Subscribers      object\n",
       "Video views       int64\n",
       "dtype: object"
      ]
     },
     "execution_count": 35,
     "metadata": {},
     "output_type": "execute_result"
    }
   ],
   "source": [
    "data.dtypes"
   ]
  },
  {
   "cell_type": "code",
   "execution_count": 36,
   "metadata": {},
   "outputs": [],
   "source": [
    "data[\"Video Uploads\"] = data[\"Video Uploads\"].astype(\"int\")"
   ]
  },
  {
   "cell_type": "code",
   "execution_count": 37,
   "metadata": {},
   "outputs": [],
   "source": [
    "data[\"Subscribers\"] = data[\"Subscribers\"].astype(\"int\")"
   ]
  },
  {
   "cell_type": "code",
   "execution_count": 38,
   "metadata": {},
   "outputs": [
    {
     "data": {
      "text/plain": [
       "Rank              int64\n",
       "Grade            object\n",
       "Channel name     object\n",
       "Video Uploads     int64\n",
       "Subscribers       int64\n",
       "Video views       int64\n",
       "dtype: object"
      ]
     },
     "execution_count": 38,
     "metadata": {},
     "output_type": "execute_result"
    }
   ],
   "source": [
    "data.dtypes"
   ]
  },
  {
   "cell_type": "code",
   "execution_count": 39,
   "metadata": {},
   "outputs": [
    {
     "data": {
      "text/plain": [
       "array(['A++ ', 'A+ ', 'A ', 'A- ', 'B+ '], dtype=object)"
      ]
     },
     "execution_count": 39,
     "metadata": {},
     "output_type": "execute_result"
    }
   ],
   "source": [
    "data[\"Grade\"].unique()"
   ]
  },
  {
   "cell_type": "code",
   "execution_count": 41,
   "metadata": {},
   "outputs": [],
   "source": [
    "data[\"Grade\"]=data[\"Grade\"].map({\"A++ \":5,\"A+ \":4,\"A \":3,\"A- \":2,\"B+ \":1})"
   ]
  },
  {
   "cell_type": "code",
   "execution_count": 42,
   "metadata": {},
   "outputs": [
    {
     "data": {
      "text/plain": [
       "Rank              int64\n",
       "Grade             int64\n",
       "Channel name     object\n",
       "Video Uploads     int64\n",
       "Subscribers       int64\n",
       "Video views       int64\n",
       "dtype: object"
      ]
     },
     "execution_count": 42,
     "metadata": {},
     "output_type": "execute_result"
    }
   ],
   "source": [
    "data.dtypes"
   ]
  },
  {
   "cell_type": "code",
   "execution_count": 43,
   "metadata": {},
   "outputs": [
    {
     "data": {
      "text/plain": [
       "Index(['Rank', 'Grade', 'Channel name', 'Video Uploads', 'Subscribers',\n",
       "       'Video views'],\n",
       "      dtype='object')"
      ]
     },
     "execution_count": 43,
     "metadata": {},
     "output_type": "execute_result"
    }
   ],
   "source": [
    "data.columns"
   ]
  },
  {
   "cell_type": "code",
   "execution_count": 44,
   "metadata": {},
   "outputs": [],
   "source": [
    "data[\"Avg_views\"]=data[\"Video views\"]/data[\"Video Uploads\"]"
   ]
  },
  {
   "cell_type": "code",
   "execution_count": 45,
   "metadata": {},
   "outputs": [
    {
     "data": {
      "text/html": [
       "<div>\n",
       "<style scoped>\n",
       "    .dataframe tbody tr th:only-of-type {\n",
       "        vertical-align: middle;\n",
       "    }\n",
       "\n",
       "    .dataframe tbody tr th {\n",
       "        vertical-align: top;\n",
       "    }\n",
       "\n",
       "    .dataframe thead th {\n",
       "        text-align: right;\n",
       "    }\n",
       "</style>\n",
       "<table border=\"1\" class=\"dataframe\">\n",
       "  <thead>\n",
       "    <tr style=\"text-align: right;\">\n",
       "      <th></th>\n",
       "      <th>Rank</th>\n",
       "      <th>Grade</th>\n",
       "      <th>Channel name</th>\n",
       "      <th>Video Uploads</th>\n",
       "      <th>Subscribers</th>\n",
       "      <th>Video views</th>\n",
       "      <th>Avg_views</th>\n",
       "    </tr>\n",
       "  </thead>\n",
       "  <tbody>\n",
       "    <tr>\n",
       "      <th>0</th>\n",
       "      <td>1</td>\n",
       "      <td>5</td>\n",
       "      <td>Zee TV</td>\n",
       "      <td>82757</td>\n",
       "      <td>18752951</td>\n",
       "      <td>20869786591</td>\n",
       "      <td>252181.53</td>\n",
       "    </tr>\n",
       "    <tr>\n",
       "      <th>1</th>\n",
       "      <td>2</td>\n",
       "      <td>5</td>\n",
       "      <td>T-Series</td>\n",
       "      <td>12661</td>\n",
       "      <td>61196302</td>\n",
       "      <td>47548839843</td>\n",
       "      <td>3755535.89</td>\n",
       "    </tr>\n",
       "    <tr>\n",
       "      <th>2</th>\n",
       "      <td>3</td>\n",
       "      <td>5</td>\n",
       "      <td>Cocomelon - Nursery Rhymes</td>\n",
       "      <td>373</td>\n",
       "      <td>19238251</td>\n",
       "      <td>9793305082</td>\n",
       "      <td>26255509.60</td>\n",
       "    </tr>\n",
       "    <tr>\n",
       "      <th>3</th>\n",
       "      <td>4</td>\n",
       "      <td>5</td>\n",
       "      <td>SET India</td>\n",
       "      <td>27323</td>\n",
       "      <td>31180559</td>\n",
       "      <td>22675948293</td>\n",
       "      <td>829921.62</td>\n",
       "    </tr>\n",
       "    <tr>\n",
       "      <th>4</th>\n",
       "      <td>5</td>\n",
       "      <td>5</td>\n",
       "      <td>WWE</td>\n",
       "      <td>36756</td>\n",
       "      <td>32852346</td>\n",
       "      <td>26273668433</td>\n",
       "      <td>714813.05</td>\n",
       "    </tr>\n",
       "  </tbody>\n",
       "</table>\n",
       "</div>"
      ],
      "text/plain": [
       "   Rank  Grade                Channel name  Video Uploads  Subscribers  \\\n",
       "0     1      5                      Zee TV          82757     18752951   \n",
       "1     2      5                    T-Series          12661     61196302   \n",
       "2     3      5  Cocomelon - Nursery Rhymes            373     19238251   \n",
       "3     4      5                   SET India          27323     31180559   \n",
       "4     5      5                         WWE          36756     32852346   \n",
       "\n",
       "   Video views   Avg_views  \n",
       "0  20869786591   252181.53  \n",
       "1  47548839843  3755535.89  \n",
       "2   9793305082 26255509.60  \n",
       "3  22675948293   829921.62  \n",
       "4  26273668433   714813.05  "
      ]
     },
     "execution_count": 45,
     "metadata": {},
     "output_type": "execute_result"
    }
   ],
   "source": [
    "data.head()"
   ]
  },
  {
   "cell_type": "code",
   "execution_count": 47,
   "metadata": {},
   "outputs": [
    {
     "data": {
      "text/html": [
       "<div>\n",
       "<style scoped>\n",
       "    .dataframe tbody tr th:only-of-type {\n",
       "        vertical-align: middle;\n",
       "    }\n",
       "\n",
       "    .dataframe tbody tr th {\n",
       "        vertical-align: top;\n",
       "    }\n",
       "\n",
       "    .dataframe thead th {\n",
       "        text-align: right;\n",
       "    }\n",
       "</style>\n",
       "<table border=\"1\" class=\"dataframe\">\n",
       "  <thead>\n",
       "    <tr style=\"text-align: right;\">\n",
       "      <th></th>\n",
       "      <th>Rank</th>\n",
       "      <th>Grade</th>\n",
       "      <th>Channel name</th>\n",
       "      <th>Video Uploads</th>\n",
       "      <th>Subscribers</th>\n",
       "      <th>Video views</th>\n",
       "      <th>Avg_views</th>\n",
       "    </tr>\n",
       "  </thead>\n",
       "  <tbody>\n",
       "    <tr>\n",
       "      <th>3453</th>\n",
       "      <td>3454</td>\n",
       "      <td>1</td>\n",
       "      <td>AP Archive</td>\n",
       "      <td>422326</td>\n",
       "      <td>746325</td>\n",
       "      <td>548619569</td>\n",
       "      <td>1299.04</td>\n",
       "    </tr>\n",
       "    <tr>\n",
       "      <th>1149</th>\n",
       "      <td>1150</td>\n",
       "      <td>2</td>\n",
       "      <td>YTN NEWS</td>\n",
       "      <td>355996</td>\n",
       "      <td>820108</td>\n",
       "      <td>1640347646</td>\n",
       "      <td>4607.77</td>\n",
       "    </tr>\n",
       "    <tr>\n",
       "      <th>2223</th>\n",
       "      <td>2224</td>\n",
       "      <td>1</td>\n",
       "      <td>SBS Drama</td>\n",
       "      <td>335521</td>\n",
       "      <td>1418619</td>\n",
       "      <td>1565758044</td>\n",
       "      <td>4666.65</td>\n",
       "    </tr>\n",
       "    <tr>\n",
       "      <th>323</th>\n",
       "      <td>324</td>\n",
       "      <td>3</td>\n",
       "      <td>GMA News</td>\n",
       "      <td>269065</td>\n",
       "      <td>2599175</td>\n",
       "      <td>2786949164</td>\n",
       "      <td>10357.90</td>\n",
       "    </tr>\n",
       "    <tr>\n",
       "      <th>2956</th>\n",
       "      <td>2957</td>\n",
       "      <td>1</td>\n",
       "      <td>MLB</td>\n",
       "      <td>267649</td>\n",
       "      <td>1434206</td>\n",
       "      <td>1329206392</td>\n",
       "      <td>4966.23</td>\n",
       "    </tr>\n",
       "  </tbody>\n",
       "</table>\n",
       "</div>"
      ],
      "text/plain": [
       "      Rank  Grade Channel name  Video Uploads  Subscribers  Video views  \\\n",
       "3453  3454      1   AP Archive         422326       746325    548619569   \n",
       "1149  1150      2     YTN NEWS         355996       820108   1640347646   \n",
       "2223  2224      1    SBS Drama         335521      1418619   1565758044   \n",
       "323    324      3     GMA News         269065      2599175   2786949164   \n",
       "2956  2957      1          MLB         267649      1434206   1329206392   \n",
       "\n",
       "      Avg_views  \n",
       "3453    1299.04  \n",
       "1149    4607.77  \n",
       "2223    4666.65  \n",
       "323    10357.90  \n",
       "2956    4966.23  "
      ]
     },
     "execution_count": 47,
     "metadata": {},
     "output_type": "execute_result"
    }
   ],
   "source": [
    "data.sort_values(by=\"Video Uploads\",ascending=False).head()"
   ]
  },
  {
   "cell_type": "code",
   "execution_count": 50,
   "metadata": {},
   "outputs": [
    {
     "ename": "ValueError",
     "evalue": "could not convert string to float: 'Zee TV'",
     "output_type": "error",
     "traceback": [
      "\u001b[1;31m---------------------------------------------------------------------------\u001b[0m",
      "\u001b[1;31mValueError\u001b[0m                                Traceback (most recent call last)",
      "Cell \u001b[1;32mIn[50], line 1\u001b[0m\n\u001b[1;32m----> 1\u001b[0m \u001b[43mdata\u001b[49m\u001b[38;5;241;43m.\u001b[39;49m\u001b[43mcorr\u001b[49m\u001b[43m(\u001b[49m\u001b[43m)\u001b[49m\n",
      "File \u001b[1;32mc:\\Users\\BHUVANESWARI\\AppData\\Local\\Programs\\Python\\Python313\\Lib\\site-packages\\pandas\\core\\frame.py:11049\u001b[0m, in \u001b[0;36mDataFrame.corr\u001b[1;34m(self, method, min_periods, numeric_only)\u001b[0m\n\u001b[0;32m  11047\u001b[0m cols \u001b[38;5;241m=\u001b[39m data\u001b[38;5;241m.\u001b[39mcolumns\n\u001b[0;32m  11048\u001b[0m idx \u001b[38;5;241m=\u001b[39m cols\u001b[38;5;241m.\u001b[39mcopy()\n\u001b[1;32m> 11049\u001b[0m mat \u001b[38;5;241m=\u001b[39m \u001b[43mdata\u001b[49m\u001b[38;5;241;43m.\u001b[39;49m\u001b[43mto_numpy\u001b[49m\u001b[43m(\u001b[49m\u001b[43mdtype\u001b[49m\u001b[38;5;241;43m=\u001b[39;49m\u001b[38;5;28;43mfloat\u001b[39;49m\u001b[43m,\u001b[49m\u001b[43m \u001b[49m\u001b[43mna_value\u001b[49m\u001b[38;5;241;43m=\u001b[39;49m\u001b[43mnp\u001b[49m\u001b[38;5;241;43m.\u001b[39;49m\u001b[43mnan\u001b[49m\u001b[43m,\u001b[49m\u001b[43m \u001b[49m\u001b[43mcopy\u001b[49m\u001b[38;5;241;43m=\u001b[39;49m\u001b[38;5;28;43;01mFalse\u001b[39;49;00m\u001b[43m)\u001b[49m\n\u001b[0;32m  11051\u001b[0m \u001b[38;5;28;01mif\u001b[39;00m method \u001b[38;5;241m==\u001b[39m \u001b[38;5;124m\"\u001b[39m\u001b[38;5;124mpearson\u001b[39m\u001b[38;5;124m\"\u001b[39m:\n\u001b[0;32m  11052\u001b[0m     correl \u001b[38;5;241m=\u001b[39m libalgos\u001b[38;5;241m.\u001b[39mnancorr(mat, minp\u001b[38;5;241m=\u001b[39mmin_periods)\n",
      "File \u001b[1;32mc:\\Users\\BHUVANESWARI\\AppData\\Local\\Programs\\Python\\Python313\\Lib\\site-packages\\pandas\\core\\frame.py:1993\u001b[0m, in \u001b[0;36mDataFrame.to_numpy\u001b[1;34m(self, dtype, copy, na_value)\u001b[0m\n\u001b[0;32m   1991\u001b[0m \u001b[38;5;28;01mif\u001b[39;00m dtype \u001b[38;5;129;01mis\u001b[39;00m \u001b[38;5;129;01mnot\u001b[39;00m \u001b[38;5;28;01mNone\u001b[39;00m:\n\u001b[0;32m   1992\u001b[0m     dtype \u001b[38;5;241m=\u001b[39m np\u001b[38;5;241m.\u001b[39mdtype(dtype)\n\u001b[1;32m-> 1993\u001b[0m result \u001b[38;5;241m=\u001b[39m \u001b[38;5;28;43mself\u001b[39;49m\u001b[38;5;241;43m.\u001b[39;49m\u001b[43m_mgr\u001b[49m\u001b[38;5;241;43m.\u001b[39;49m\u001b[43mas_array\u001b[49m\u001b[43m(\u001b[49m\u001b[43mdtype\u001b[49m\u001b[38;5;241;43m=\u001b[39;49m\u001b[43mdtype\u001b[49m\u001b[43m,\u001b[49m\u001b[43m \u001b[49m\u001b[43mcopy\u001b[49m\u001b[38;5;241;43m=\u001b[39;49m\u001b[43mcopy\u001b[49m\u001b[43m,\u001b[49m\u001b[43m \u001b[49m\u001b[43mna_value\u001b[49m\u001b[38;5;241;43m=\u001b[39;49m\u001b[43mna_value\u001b[49m\u001b[43m)\u001b[49m\n\u001b[0;32m   1994\u001b[0m \u001b[38;5;28;01mif\u001b[39;00m result\u001b[38;5;241m.\u001b[39mdtype \u001b[38;5;129;01mis\u001b[39;00m \u001b[38;5;129;01mnot\u001b[39;00m dtype:\n\u001b[0;32m   1995\u001b[0m     result \u001b[38;5;241m=\u001b[39m np\u001b[38;5;241m.\u001b[39masarray(result, dtype\u001b[38;5;241m=\u001b[39mdtype)\n",
      "File \u001b[1;32mc:\\Users\\BHUVANESWARI\\AppData\\Local\\Programs\\Python\\Python313\\Lib\\site-packages\\pandas\\core\\internals\\managers.py:1694\u001b[0m, in \u001b[0;36mBlockManager.as_array\u001b[1;34m(self, dtype, copy, na_value)\u001b[0m\n\u001b[0;32m   1692\u001b[0m         arr\u001b[38;5;241m.\u001b[39mflags\u001b[38;5;241m.\u001b[39mwriteable \u001b[38;5;241m=\u001b[39m \u001b[38;5;28;01mFalse\u001b[39;00m\n\u001b[0;32m   1693\u001b[0m \u001b[38;5;28;01melse\u001b[39;00m:\n\u001b[1;32m-> 1694\u001b[0m     arr \u001b[38;5;241m=\u001b[39m \u001b[38;5;28;43mself\u001b[39;49m\u001b[38;5;241;43m.\u001b[39;49m\u001b[43m_interleave\u001b[49m\u001b[43m(\u001b[49m\u001b[43mdtype\u001b[49m\u001b[38;5;241;43m=\u001b[39;49m\u001b[43mdtype\u001b[49m\u001b[43m,\u001b[49m\u001b[43m \u001b[49m\u001b[43mna_value\u001b[49m\u001b[38;5;241;43m=\u001b[39;49m\u001b[43mna_value\u001b[49m\u001b[43m)\u001b[49m\n\u001b[0;32m   1695\u001b[0m     \u001b[38;5;66;03m# The underlying data was copied within _interleave, so no need\u001b[39;00m\n\u001b[0;32m   1696\u001b[0m     \u001b[38;5;66;03m# to further copy if copy=True or setting na_value\u001b[39;00m\n\u001b[0;32m   1698\u001b[0m \u001b[38;5;28;01mif\u001b[39;00m na_value \u001b[38;5;129;01mis\u001b[39;00m lib\u001b[38;5;241m.\u001b[39mno_default:\n",
      "File \u001b[1;32mc:\\Users\\BHUVANESWARI\\AppData\\Local\\Programs\\Python\\Python313\\Lib\\site-packages\\pandas\\core\\internals\\managers.py:1753\u001b[0m, in \u001b[0;36mBlockManager._interleave\u001b[1;34m(self, dtype, na_value)\u001b[0m\n\u001b[0;32m   1751\u001b[0m     \u001b[38;5;28;01melse\u001b[39;00m:\n\u001b[0;32m   1752\u001b[0m         arr \u001b[38;5;241m=\u001b[39m blk\u001b[38;5;241m.\u001b[39mget_values(dtype)\n\u001b[1;32m-> 1753\u001b[0m     \u001b[43mresult\u001b[49m\u001b[43m[\u001b[49m\u001b[43mrl\u001b[49m\u001b[38;5;241;43m.\u001b[39;49m\u001b[43mindexer\u001b[49m\u001b[43m]\u001b[49m \u001b[38;5;241m=\u001b[39m arr\n\u001b[0;32m   1754\u001b[0m     itemmask[rl\u001b[38;5;241m.\u001b[39mindexer] \u001b[38;5;241m=\u001b[39m \u001b[38;5;241m1\u001b[39m\n\u001b[0;32m   1756\u001b[0m \u001b[38;5;28;01mif\u001b[39;00m \u001b[38;5;129;01mnot\u001b[39;00m itemmask\u001b[38;5;241m.\u001b[39mall():\n",
      "\u001b[1;31mValueError\u001b[0m: could not convert string to float: 'Zee TV'"
     ]
    }
   ],
   "source": [
    "data.corr()"
   ]
  },
  {
   "cell_type": "code",
   "execution_count": 51,
   "metadata": {},
   "outputs": [
    {
     "data": {
      "text/plain": [
       "<Axes: xlabel='Grade', ylabel='Video Uploads'>"
      ]
     },
     "execution_count": 51,
     "metadata": {},
     "output_type": "execute_result"
    },
    {
     "data": {
      "image/png": "[encoded data removed]",
      "text/plain": [
       "<Figure size 640x480 with 1 Axes>"
      ]
     },
     "metadata": {},
     "output_type": "display_data"
    }
   ],
   "source": [
    "sns.barplot(x=\"Grade\",y=\"Video Uploads\",data=data)"
   ]
  },
  {
   "cell_type": "code",
   "execution_count": 52,
   "metadata": {},
   "outputs": [
    {
     "data": {
      "text/plain": [
       "<Axes: xlabel='Grade', ylabel='Avg_views'>"
      ]
     },
     "execution_count": 52,
     "metadata": {},
     "output_type": "execute_result"
    },
    {
     "data": {
      "image/png": "[encoded data removed]",
      "text/plain": [
       "<Figure size 640x480 with 1 Axes>"
      ]
     },
     "metadata": {},
     "output_type": "display_data"
    }
   ],
   "source": [
    "sns.barplot(x=\"Grade\",y=\"Avg_views\",data=data)"
   ]
  },
  {
   "cell_type": "code",
   "execution_count": 53,
   "metadata": {},
   "outputs": [
    {
     "data": {
      "text/plain": [
       "<Axes: xlabel='Grade', ylabel='Subscribers'>"
      ]
     },
     "execution_count": 53,
     "metadata": {},
     "output_type": "execute_result"
    },
    {
     "data": {
      "image/png": "[encoded data removed]",
      "text/plain": [
       "<Figure size 640x480 with 1 Axes>"
      ]
     },
     "metadata": {},
     "output_type": "display_data"
    }
   ],
   "source": [
    "sns.barplot(x=\"Grade\",y=\"Subscribers\",data=data)"
   ]
  },
  {
   "cell_type": "code",
   "execution_count": 54,
   "metadata": {},
   "outputs": [
    {
     "ename": "TypeError",
     "evalue": "agg function failed [how->mean,dtype->object]",
     "output_type": "error",
     "traceback": [
      "\u001b[1;31m---------------------------------------------------------------------------\u001b[0m",
      "\u001b[1;31mTypeError\u001b[0m                                 Traceback (most recent call last)",
      "File \u001b[1;32mc:\\Users\\BHUVANESWARI\\AppData\\Local\\Programs\\Python\\Python313\\Lib\\site-packages\\pandas\\core\\groupby\\groupby.py:1942\u001b[0m, in \u001b[0;36mGroupBy._agg_py_fallback\u001b[1;34m(self, how, values, ndim, alt)\u001b[0m\n\u001b[0;32m   1941\u001b[0m \u001b[38;5;28;01mtry\u001b[39;00m:\n\u001b[1;32m-> 1942\u001b[0m     res_values \u001b[38;5;241m=\u001b[39m \u001b[38;5;28;43mself\u001b[39;49m\u001b[38;5;241;43m.\u001b[39;49m\u001b[43m_grouper\u001b[49m\u001b[38;5;241;43m.\u001b[39;49m\u001b[43magg_series\u001b[49m\u001b[43m(\u001b[49m\u001b[43mser\u001b[49m\u001b[43m,\u001b[49m\u001b[43m \u001b[49m\u001b[43malt\u001b[49m\u001b[43m,\u001b[49m\u001b[43m \u001b[49m\u001b[43mpreserve_dtype\u001b[49m\u001b[38;5;241;43m=\u001b[39;49m\u001b[38;5;28;43;01mTrue\u001b[39;49;00m\u001b[43m)\u001b[49m\n\u001b[0;32m   1943\u001b[0m \u001b[38;5;28;01mexcept\u001b[39;00m \u001b[38;5;167;01mException\u001b[39;00m \u001b[38;5;28;01mas\u001b[39;00m err:\n",
      "File \u001b[1;32mc:\\Users\\BHUVANESWARI\\AppData\\Local\\Programs\\Python\\Python313\\Lib\\site-packages\\pandas\\core\\groupby\\ops.py:864\u001b[0m, in \u001b[0;36mBaseGrouper.agg_series\u001b[1;34m(self, obj, func, preserve_dtype)\u001b[0m\n\u001b[0;32m    862\u001b[0m     preserve_dtype \u001b[38;5;241m=\u001b[39m \u001b[38;5;28;01mTrue\u001b[39;00m\n\u001b[1;32m--> 864\u001b[0m result \u001b[38;5;241m=\u001b[39m \u001b[38;5;28;43mself\u001b[39;49m\u001b[38;5;241;43m.\u001b[39;49m\u001b[43m_aggregate_series_pure_python\u001b[49m\u001b[43m(\u001b[49m\u001b[43mobj\u001b[49m\u001b[43m,\u001b[49m\u001b[43m \u001b[49m\u001b[43mfunc\u001b[49m\u001b[43m)\u001b[49m\n\u001b[0;32m    866\u001b[0m npvalues \u001b[38;5;241m=\u001b[39m lib\u001b[38;5;241m.\u001b[39mmaybe_convert_objects(result, try_float\u001b[38;5;241m=\u001b[39m\u001b[38;5;28;01mFalse\u001b[39;00m)\n",
      "File \u001b[1;32mc:\\Users\\BHUVANESWARI\\AppData\\Local\\Programs\\Python\\Python313\\Lib\\site-packages\\pandas\\core\\groupby\\ops.py:885\u001b[0m, in \u001b[0;36mBaseGrouper._aggregate_series_pure_python\u001b[1;34m(self, obj, func)\u001b[0m\n\u001b[0;32m    884\u001b[0m \u001b[38;5;28;01mfor\u001b[39;00m i, group \u001b[38;5;129;01min\u001b[39;00m \u001b[38;5;28menumerate\u001b[39m(splitter):\n\u001b[1;32m--> 885\u001b[0m     res \u001b[38;5;241m=\u001b[39m \u001b[43mfunc\u001b[49m\u001b[43m(\u001b[49m\u001b[43mgroup\u001b[49m\u001b[43m)\u001b[49m\n\u001b[0;32m    886\u001b[0m     res \u001b[38;5;241m=\u001b[39m extract_result(res)\n",
      "File \u001b[1;32mc:\\Users\\BHUVANESWARI\\AppData\\Local\\Programs\\Python\\Python313\\Lib\\site-packages\\pandas\\core\\groupby\\groupby.py:2454\u001b[0m, in \u001b[0;36mGroupBy.mean.<locals>.<lambda>\u001b[1;34m(x)\u001b[0m\n\u001b[0;32m   2451\u001b[0m \u001b[38;5;28;01melse\u001b[39;00m:\n\u001b[0;32m   2452\u001b[0m     result \u001b[38;5;241m=\u001b[39m \u001b[38;5;28mself\u001b[39m\u001b[38;5;241m.\u001b[39m_cython_agg_general(\n\u001b[0;32m   2453\u001b[0m         \u001b[38;5;124m\"\u001b[39m\u001b[38;5;124mmean\u001b[39m\u001b[38;5;124m\"\u001b[39m,\n\u001b[1;32m-> 2454\u001b[0m         alt\u001b[38;5;241m=\u001b[39m\u001b[38;5;28;01mlambda\u001b[39;00m x: \u001b[43mSeries\u001b[49m\u001b[43m(\u001b[49m\u001b[43mx\u001b[49m\u001b[43m,\u001b[49m\u001b[43m \u001b[49m\u001b[43mcopy\u001b[49m\u001b[38;5;241;43m=\u001b[39;49m\u001b[38;5;28;43;01mFalse\u001b[39;49;00m\u001b[43m)\u001b[49m\u001b[38;5;241;43m.\u001b[39;49m\u001b[43mmean\u001b[49m\u001b[43m(\u001b[49m\u001b[43mnumeric_only\u001b[49m\u001b[38;5;241;43m=\u001b[39;49m\u001b[43mnumeric_only\u001b[49m\u001b[43m)\u001b[49m,\n\u001b[0;32m   2455\u001b[0m         numeric_only\u001b[38;5;241m=\u001b[39mnumeric_only,\n\u001b[0;32m   2456\u001b[0m     )\n\u001b[0;32m   2457\u001b[0m     \u001b[38;5;28;01mreturn\u001b[39;00m result\u001b[38;5;241m.\u001b[39m__finalize__(\u001b[38;5;28mself\u001b[39m\u001b[38;5;241m.\u001b[39mobj, method\u001b[38;5;241m=\u001b[39m\u001b[38;5;124m\"\u001b[39m\u001b[38;5;124mgroupby\u001b[39m\u001b[38;5;124m\"\u001b[39m)\n",
      "File \u001b[1;32mc:\\Users\\BHUVANESWARI\\AppData\\Local\\Programs\\Python\\Python313\\Lib\\site-packages\\pandas\\core\\series.py:6549\u001b[0m, in \u001b[0;36mSeries.mean\u001b[1;34m(self, axis, skipna, numeric_only, **kwargs)\u001b[0m\n\u001b[0;32m   6541\u001b[0m \u001b[38;5;129m@doc\u001b[39m(make_doc(\u001b[38;5;124m\"\u001b[39m\u001b[38;5;124mmean\u001b[39m\u001b[38;5;124m\"\u001b[39m, ndim\u001b[38;5;241m=\u001b[39m\u001b[38;5;241m1\u001b[39m))\n\u001b[0;32m   6542\u001b[0m \u001b[38;5;28;01mdef\u001b[39;00m\u001b[38;5;250m \u001b[39m\u001b[38;5;21mmean\u001b[39m(\n\u001b[0;32m   6543\u001b[0m     \u001b[38;5;28mself\u001b[39m,\n\u001b[1;32m   (...)\u001b[0m\n\u001b[0;32m   6547\u001b[0m     \u001b[38;5;241m*\u001b[39m\u001b[38;5;241m*\u001b[39mkwargs,\n\u001b[0;32m   6548\u001b[0m ):\n\u001b[1;32m-> 6549\u001b[0m     \u001b[38;5;28;01mreturn\u001b[39;00m \u001b[43mNDFrame\u001b[49m\u001b[38;5;241;43m.\u001b[39;49m\u001b[43mmean\u001b[49m\u001b[43m(\u001b[49m\u001b[38;5;28;43mself\u001b[39;49m\u001b[43m,\u001b[49m\u001b[43m \u001b[49m\u001b[43maxis\u001b[49m\u001b[43m,\u001b[49m\u001b[43m \u001b[49m\u001b[43mskipna\u001b[49m\u001b[43m,\u001b[49m\u001b[43m \u001b[49m\u001b[43mnumeric_only\u001b[49m\u001b[43m,\u001b[49m\u001b[43m \u001b[49m\u001b[38;5;241;43m*\u001b[39;49m\u001b[38;5;241;43m*\u001b[39;49m\u001b[43mkwargs\u001b[49m\u001b[43m)\u001b[49m\n",
      "File \u001b[1;32mc:\\Users\\BHUVANESWARI\\AppData\\Local\\Programs\\Python\\Python313\\Lib\\site-packages\\pandas\\core\\generic.py:12420\u001b[0m, in \u001b[0;36mNDFrame.mean\u001b[1;34m(self, axis, skipna, numeric_only, **kwargs)\u001b[0m\n\u001b[0;32m  12413\u001b[0m \u001b[38;5;28;01mdef\u001b[39;00m\u001b[38;5;250m \u001b[39m\u001b[38;5;21mmean\u001b[39m(\n\u001b[0;32m  12414\u001b[0m     \u001b[38;5;28mself\u001b[39m,\n\u001b[0;32m  12415\u001b[0m     axis: Axis \u001b[38;5;241m|\u001b[39m \u001b[38;5;28;01mNone\u001b[39;00m \u001b[38;5;241m=\u001b[39m \u001b[38;5;241m0\u001b[39m,\n\u001b[1;32m   (...)\u001b[0m\n\u001b[0;32m  12418\u001b[0m     \u001b[38;5;241m*\u001b[39m\u001b[38;5;241m*\u001b[39mkwargs,\n\u001b[0;32m  12419\u001b[0m ) \u001b[38;5;241m-\u001b[39m\u001b[38;5;241m>\u001b[39m Series \u001b[38;5;241m|\u001b[39m \u001b[38;5;28mfloat\u001b[39m:\n\u001b[1;32m> 12420\u001b[0m     \u001b[38;5;28;01mreturn\u001b[39;00m \u001b[38;5;28;43mself\u001b[39;49m\u001b[38;5;241;43m.\u001b[39;49m\u001b[43m_stat_function\u001b[49m\u001b[43m(\u001b[49m\n\u001b[0;32m  12421\u001b[0m \u001b[43m        \u001b[49m\u001b[38;5;124;43m\"\u001b[39;49m\u001b[38;5;124;43mmean\u001b[39;49m\u001b[38;5;124;43m\"\u001b[39;49m\u001b[43m,\u001b[49m\u001b[43m \u001b[49m\u001b[43mnanops\u001b[49m\u001b[38;5;241;43m.\u001b[39;49m\u001b[43mnanmean\u001b[49m\u001b[43m,\u001b[49m\u001b[43m \u001b[49m\u001b[43maxis\u001b[49m\u001b[43m,\u001b[49m\u001b[43m \u001b[49m\u001b[43mskipna\u001b[49m\u001b[43m,\u001b[49m\u001b[43m \u001b[49m\u001b[43mnumeric_only\u001b[49m\u001b[43m,\u001b[49m\u001b[43m \u001b[49m\u001b[38;5;241;43m*\u001b[39;49m\u001b[38;5;241;43m*\u001b[39;49m\u001b[43mkwargs\u001b[49m\n\u001b[0;32m  12422\u001b[0m \u001b[43m    \u001b[49m\u001b[43m)\u001b[49m\n",
      "File \u001b[1;32mc:\\Users\\BHUVANESWARI\\AppData\\Local\\Programs\\Python\\Python313\\Lib\\site-packages\\pandas\\core\\generic.py:12377\u001b[0m, in \u001b[0;36mNDFrame._stat_function\u001b[1;34m(self, name, func, axis, skipna, numeric_only, **kwargs)\u001b[0m\n\u001b[0;32m  12375\u001b[0m validate_bool_kwarg(skipna, \u001b[38;5;124m\"\u001b[39m\u001b[38;5;124mskipna\u001b[39m\u001b[38;5;124m\"\u001b[39m, none_allowed\u001b[38;5;241m=\u001b[39m\u001b[38;5;28;01mFalse\u001b[39;00m)\n\u001b[1;32m> 12377\u001b[0m \u001b[38;5;28;01mreturn\u001b[39;00m \u001b[38;5;28;43mself\u001b[39;49m\u001b[38;5;241;43m.\u001b[39;49m\u001b[43m_reduce\u001b[49m\u001b[43m(\u001b[49m\n\u001b[0;32m  12378\u001b[0m \u001b[43m    \u001b[49m\u001b[43mfunc\u001b[49m\u001b[43m,\u001b[49m\u001b[43m \u001b[49m\u001b[43mname\u001b[49m\u001b[38;5;241;43m=\u001b[39;49m\u001b[43mname\u001b[49m\u001b[43m,\u001b[49m\u001b[43m \u001b[49m\u001b[43maxis\u001b[49m\u001b[38;5;241;43m=\u001b[39;49m\u001b[43maxis\u001b[49m\u001b[43m,\u001b[49m\u001b[43m \u001b[49m\u001b[43mskipna\u001b[49m\u001b[38;5;241;43m=\u001b[39;49m\u001b[43mskipna\u001b[49m\u001b[43m,\u001b[49m\u001b[43m \u001b[49m\u001b[43mnumeric_only\u001b[49m\u001b[38;5;241;43m=\u001b[39;49m\u001b[43mnumeric_only\u001b[49m\n\u001b[0;32m  12379\u001b[0m \u001b[43m\u001b[49m\u001b[43m)\u001b[49m\n",
      "File \u001b[1;32mc:\\Users\\BHUVANESWARI\\AppData\\Local\\Programs\\Python\\Python313\\Lib\\site-packages\\pandas\\core\\series.py:6457\u001b[0m, in \u001b[0;36mSeries._reduce\u001b[1;34m(self, op, name, axis, skipna, numeric_only, filter_type, **kwds)\u001b[0m\n\u001b[0;32m   6453\u001b[0m     \u001b[38;5;28;01mraise\u001b[39;00m \u001b[38;5;167;01mTypeError\u001b[39;00m(\n\u001b[0;32m   6454\u001b[0m         \u001b[38;5;124mf\u001b[39m\u001b[38;5;124m\"\u001b[39m\u001b[38;5;124mSeries.\u001b[39m\u001b[38;5;132;01m{\u001b[39;00mname\u001b[38;5;132;01m}\u001b[39;00m\u001b[38;5;124m does not allow \u001b[39m\u001b[38;5;132;01m{\u001b[39;00mkwd_name\u001b[38;5;132;01m}\u001b[39;00m\u001b[38;5;124m=\u001b[39m\u001b[38;5;132;01m{\u001b[39;00mnumeric_only\u001b[38;5;132;01m}\u001b[39;00m\u001b[38;5;124m \u001b[39m\u001b[38;5;124m\"\u001b[39m\n\u001b[0;32m   6455\u001b[0m         \u001b[38;5;124m\"\u001b[39m\u001b[38;5;124mwith non-numeric dtypes.\u001b[39m\u001b[38;5;124m\"\u001b[39m\n\u001b[0;32m   6456\u001b[0m     )\n\u001b[1;32m-> 6457\u001b[0m \u001b[38;5;28;01mreturn\u001b[39;00m \u001b[43mop\u001b[49m\u001b[43m(\u001b[49m\u001b[43mdelegate\u001b[49m\u001b[43m,\u001b[49m\u001b[43m \u001b[49m\u001b[43mskipna\u001b[49m\u001b[38;5;241;43m=\u001b[39;49m\u001b[43mskipna\u001b[49m\u001b[43m,\u001b[49m\u001b[43m \u001b[49m\u001b[38;5;241;43m*\u001b[39;49m\u001b[38;5;241;43m*\u001b[39;49m\u001b[43mkwds\u001b[49m\u001b[43m)\u001b[49m\n",
      "File \u001b[1;32mc:\\Users\\BHUVANESWARI\\AppData\\Local\\Programs\\Python\\Python313\\Lib\\site-packages\\pandas\\core\\nanops.py:147\u001b[0m, in \u001b[0;36mbottleneck_switch.__call__.<locals>.f\u001b[1;34m(values, axis, skipna, **kwds)\u001b[0m\n\u001b[0;32m    146\u001b[0m \u001b[38;5;28;01melse\u001b[39;00m:\n\u001b[1;32m--> 147\u001b[0m     result \u001b[38;5;241m=\u001b[39m \u001b[43malt\u001b[49m\u001b[43m(\u001b[49m\u001b[43mvalues\u001b[49m\u001b[43m,\u001b[49m\u001b[43m \u001b[49m\u001b[43maxis\u001b[49m\u001b[38;5;241;43m=\u001b[39;49m\u001b[43maxis\u001b[49m\u001b[43m,\u001b[49m\u001b[43m \u001b[49m\u001b[43mskipna\u001b[49m\u001b[38;5;241;43m=\u001b[39;49m\u001b[43mskipna\u001b[49m\u001b[43m,\u001b[49m\u001b[43m \u001b[49m\u001b[38;5;241;43m*\u001b[39;49m\u001b[38;5;241;43m*\u001b[39;49m\u001b[43mkwds\u001b[49m\u001b[43m)\u001b[49m\n\u001b[0;32m    149\u001b[0m \u001b[38;5;28;01mreturn\u001b[39;00m result\n",
      "File \u001b[1;32mc:\\Users\\BHUVANESWARI\\AppData\\Local\\Programs\\Python\\Python313\\Lib\\site-packages\\pandas\\core\\nanops.py:404\u001b[0m, in \u001b[0;36m_datetimelike_compat.<locals>.new_func\u001b[1;34m(values, axis, skipna, mask, **kwargs)\u001b[0m\n\u001b[0;32m    402\u001b[0m     mask \u001b[38;5;241m=\u001b[39m isna(values)\n\u001b[1;32m--> 404\u001b[0m result \u001b[38;5;241m=\u001b[39m \u001b[43mfunc\u001b[49m\u001b[43m(\u001b[49m\u001b[43mvalues\u001b[49m\u001b[43m,\u001b[49m\u001b[43m \u001b[49m\u001b[43maxis\u001b[49m\u001b[38;5;241;43m=\u001b[39;49m\u001b[43maxis\u001b[49m\u001b[43m,\u001b[49m\u001b[43m \u001b[49m\u001b[43mskipna\u001b[49m\u001b[38;5;241;43m=\u001b[39;49m\u001b[43mskipna\u001b[49m\u001b[43m,\u001b[49m\u001b[43m \u001b[49m\u001b[43mmask\u001b[49m\u001b[38;5;241;43m=\u001b[39;49m\u001b[43mmask\u001b[49m\u001b[43m,\u001b[49m\u001b[43m \u001b[49m\u001b[38;5;241;43m*\u001b[39;49m\u001b[38;5;241;43m*\u001b[39;49m\u001b[43mkwargs\u001b[49m\u001b[43m)\u001b[49m\n\u001b[0;32m    406\u001b[0m \u001b[38;5;28;01mif\u001b[39;00m datetimelike:\n",
      "File \u001b[1;32mc:\\Users\\BHUVANESWARI\\AppData\\Local\\Programs\\Python\\Python313\\Lib\\site-packages\\pandas\\core\\nanops.py:720\u001b[0m, in \u001b[0;36mnanmean\u001b[1;34m(values, axis, skipna, mask)\u001b[0m\n\u001b[0;32m    719\u001b[0m the_sum \u001b[38;5;241m=\u001b[39m values\u001b[38;5;241m.\u001b[39msum(axis, dtype\u001b[38;5;241m=\u001b[39mdtype_sum)\n\u001b[1;32m--> 720\u001b[0m the_sum \u001b[38;5;241m=\u001b[39m \u001b[43m_ensure_numeric\u001b[49m\u001b[43m(\u001b[49m\u001b[43mthe_sum\u001b[49m\u001b[43m)\u001b[49m\n\u001b[0;32m    722\u001b[0m \u001b[38;5;28;01mif\u001b[39;00m axis \u001b[38;5;129;01mis\u001b[39;00m \u001b[38;5;129;01mnot\u001b[39;00m \u001b[38;5;28;01mNone\u001b[39;00m \u001b[38;5;129;01mand\u001b[39;00m \u001b[38;5;28mgetattr\u001b[39m(the_sum, \u001b[38;5;124m\"\u001b[39m\u001b[38;5;124mndim\u001b[39m\u001b[38;5;124m\"\u001b[39m, \u001b[38;5;28;01mFalse\u001b[39;00m):\n",
      "File \u001b[1;32mc:\\Users\\BHUVANESWARI\\AppData\\Local\\Programs\\Python\\Python313\\Lib\\site-packages\\pandas\\core\\nanops.py:1701\u001b[0m, in \u001b[0;36m_ensure_numeric\u001b[1;34m(x)\u001b[0m\n\u001b[0;32m   1699\u001b[0m \u001b[38;5;28;01mif\u001b[39;00m \u001b[38;5;28misinstance\u001b[39m(x, \u001b[38;5;28mstr\u001b[39m):\n\u001b[0;32m   1700\u001b[0m     \u001b[38;5;66;03m# GH#44008, GH#36703 avoid casting e.g. strings to numeric\u001b[39;00m\n\u001b[1;32m-> 1701\u001b[0m     \u001b[38;5;28;01mraise\u001b[39;00m \u001b[38;5;167;01mTypeError\u001b[39;00m(\u001b[38;5;124mf\u001b[39m\u001b[38;5;124m\"\u001b[39m\u001b[38;5;124mCould not convert string \u001b[39m\u001b[38;5;124m'\u001b[39m\u001b[38;5;132;01m{\u001b[39;00mx\u001b[38;5;132;01m}\u001b[39;00m\u001b[38;5;124m'\u001b[39m\u001b[38;5;124m to numeric\u001b[39m\u001b[38;5;124m\"\u001b[39m)\n\u001b[0;32m   1702\u001b[0m \u001b[38;5;28;01mtry\u001b[39;00m:\n",
      "\u001b[1;31mTypeError\u001b[0m: Could not convert string 'CarlosRiveraVEVOWow CartoonsAvşar FilmVH1Manorama NewsMaster DavidЛитлБой АдамしばなんチャンネルCalibreCincuentaVEVOBaby Bear Juguetes y SorpresasSaas Bahu aur SaazishShopee ThailandBollywoodSongs24/7ChandaGreeicyVEVOAuthentic Boy'ZChili WorldBackstreetBoysVEVO3BEPbEaeroÂN BEATKidsMeSong…أسرار لم تكن تعرفهاThe Amazing World of GumballFactTechzPTXofficialワタナベマホトLOL NetworkUnutulmayan DizilerVideogyan Kids Shows - Cartoon…Aaron EsserKênh TodayTVAj Art Production - عاج…Oficial.TatianaRomanAtwoodVlogsRaymixVEVOบรรจงElChurchesViih Tubecaptain entertainmentWrestling ZoneKMH TVهل تعلم ! Did you knowRajasthani SangeetFun Family Three Ava Isla and…KyootMC Naveed - Minecraft & Roblox and…Tv9 KannadaUltra Movie ParlourOs AmiguinhosRT ArabicSB MaffijaMr. MarmokMeshwa FilmsBiper y sus AmigosSeanChou Music ChannelOperación Triunfo OficialMirror RecordsRajasthani Chamak MusicThe King of RandomBudha Subba Digital Pvt LtdFlutter525Electric EntertainmentDanieli TrabelsiIMPACT WrestlingKozak TVsagamigaokaacJosna MediaStandart SkillKygoOfficialVEVOСемья пальчиков на…Sunrise MediaGolden Line for TV Production and…Crime FilesLAY TVFolagor03Tiket.comMANO DJHAYLittle Big ToysMon Mon TVchayanneVEVOTotally TVYoung Thug - TopicTheRelizzz / STUDIOEl Chavo del 8FifthHarmonyVEVOSarah And Melanie LiveBandaLosRecoditoVEVOX Factor GlobalКанал о собаках Dog…RakanooHoneyheartsCBlackEyedPeasVEVOJonaki MediaPainzeiroShowBusinessCracksdmcAnaysaPlaneta FaktówAmixemMr SagooMama FLooMS EntertainmentsKendrickLamarVEVOJRE ClipsRotonMusicTVBETO GAMERBie The SkaMonde des TitounisReal Life PlayerDisney Junior IsraelAWESMR slimeTIMUA TVRANCHOLAROSAnaturabr oficialMother Goose Clubقناة المجلةBBC ThreeMusile RecordsThe Voice : la plus belle voixTrinity Optima ProductionN.E Let's EatNFLTigerManoj DnD Entertainment HubProjVEVOGorillazKids LearningMatt and RebeccaCanal MisturadãoSUPER ELSAسيف SAIIFพอดีม่วน STUDIOSUPERDivertilandiaPalutenNikeItarte VlogsIndian Oil Corporation LimitedHindi Dubbed Movies CollectionceaCarnatavr SSDrJasonMBC The VoiceBÓNG ĐÁ HÔM NAYJoJo Siwa VlogsHoje é dia de MariasChuChuTV Surprise Eggs Toysİyi FikirBáo Thanh NiênViralbollywoodxKito MusicKodak BlackBrosNacionالمربد - إضحك مع…Felipe AraújoSlither MasterSpRainbow ArtasianetnewsRooster TeethGrillonautas2RedHatterlolo 7 لولو福茂唱片DisneyWalt Disney Thai SongsTheThingsHuawei Mobile THFe4RLessSBS DramaAsianet Moviesalwiyan syafirFizzy Fun ToysBoo Boo TVLyca ProductionsThe Game Theoristsعصابة بدر Badr_FamilyHumor MultishowPinkyPopTOYШКОЛАLittle Movies - игры для…Samsung ThailandDakPlayEminemMusic相信音樂BinMusicWildBrain - Cartoons for ChildrenEnzoKnolSports5FortniteCarlaMorrisonMusicOfficialSeamusicaCentrumBrasilTurmadoPagodeVEVOGavin Dhmtv NewsWowShowYashi MusicМультWells FargoLittle Lizard - FortniteHip Hop/R&B LyricsSaraBeautyCorner - DIY, Comedy,…Boishakhi TVT-Series TeluguQueQualityعائلة عمرMCV TVGeorgeEzraVEVOTV宝宝CBS NewsThe Try Guys플레이리스트Color For BabyTVBUSAofficialHZHtube Kids FunLazada IndonesiaDemiLovatoVEVOMaha Cartoon TvMana TeluguCantece Gradinita .roLion KingCheeta Superfine MusicGerencia360TV玩乐三分钟Minh PhamTheKAIRI78BehindwoodsTVChristian Nodal - TopicSoothing RelaxationFree Music \"Nasr Mahrous\"Nicki SwiftMiranda SingsI'veGOT7LucianoPereyraVEVODIEN QUAN Comedy / HàiGianlucaVacchiVEVOKIDS Funny CartOOnsKAYCEE & RACHEL in WONDERLAND…Play Doh Toys For KidsCheb Bilal - الشاب بلالFurious JumperHero Movies 2018VIRALMasha and The BearMrRevillzHappyKids TVDead MeatTop TalentPhim Hay Điện ẢnhCasi BebesTruyền Hình Đồng ThápКУКУТИКИ - Детские…Juste pour rire les gagsLive Bhakti SangeetMadame Récré FRPrimitive Technology KHBIC Group OfficialSeikinTVBunlar KAÇMAZ!NoMadU55555圈影圈外网中国电影Prens Yankı优优独播剧场——YoYo…Vovô Raul Gil OficialDE JuNAnimxHDThe Crazy HaacksmarcanthonyVEVOsanimusicindonesiaLargarife2ruda ebeegeesThis MorningвДудьNaz Status creationsAzteca NovelasRDC RajasthaniJessieJVEVOINNAHiHo KidsYuka Kinoshita木下ゆうかBaBYBoSevenPerfectAngelsBBC Radio 1videogamedunkeyBrooklyn and BaileyKapitalMusicTvFRANAwadhesh Premi PersonalDADJUCANRUSHSüper Güçlü ArabalarxFaRgAnx YTاغربKaneBrownVEVOAndrey QuocRiki MUSIC¡Caja Mágica! Vídeos in SpanishMigos ATLDisney Junior EspañaMusic Al Haneen | ميوزك…MrDeepSenseTalking Tom and FriendsTim Milgramمتع عقلكTVisionSidemenNFVEVOToyChomperPupugamesTrapMusicHDTVNachoVEVOELLODJSnakeVEVOAtbakiKids Tv Português - Canções dos…Amr DiabСИНИЙ ТРАКТОР -…Tantric Journeyぐっちの部屋(ミラクルぐっち)…loonatheworld4N1K İlk Aşkالجانب المُشرق |…ChandSitaaray SajidCRIME STORYКапуки Кануки거의없다ItsHARSH007 GamingSYMPAKarim JuegaFilmsActuAmazon IndiaCOMEDY SONOTEKDeli Mi Ne?Kids World Tv ✩Facts TVAstro Arenaماسبيرو دراماMax EddykinBackhoe Toy 빽호토이CumbiaTubeCinemaSinsKapamilya TrendingHeroine Movies 2018KhangProFilmNFL ThrowbackGameSpotkurtlar vadisi pusu وادي…Ruposhi Bangla Tv꼬꼬스토이 CoCosToyWayfer RecordsBlanco y Negro MusicRüya'nın ÇiftliğiNews 24寶寶巴士 - 兒歌童謠 -…Mettu Ka PyaarHollowPoiintEğlence Zamanısuper FUN kidsEnaldinhoJackson O'DohertyTsMadaanLucas M&M XJ6Ram AudioAbbaVEVOEl Payaso Plim PlimOddbods BrasillalolaLOLiTO FDEZTony TVClaudi TopAntonio PalmucciXiaomi EspañaCartoons Mee미니특공대TVJ.i.M_M.iCOMO TREINARХит ТВBedaya TV l قناة بداية…Little Princess ShintaiPantellasColleen BallingerAD-WISE MEDIA ACTION MOVIEPLEXSuresh ProductionslunacrecienteКАЛЯКА-МАЛЯКАDrawblogsPolycrol PiramalDora poznaje swiat po polsku gry台灣蘋果日報AfacanTVSanamТри КотаShoot for Love 슛포러브東海オンエアの控え室Quality ProductionPROMOCIONES RAMIREZMeleklerin AşkıDil RajuFatos AlucinantesOishi VietnamPrestige ClipsHot WheelsYnotWildFilmsIndiaBhad BhabieThinknoodlesIliass TiiwTiiwToyBox TubeNiska OfficielGoogle ThailandEskay MoviesMBOofficialКорпорация ЗлаGeniusGoogle IndiaToy FactorySaid BabyShowAlvaroSolerVEVOFootball SantanderGloriaTreviVEVOSt3pNyNamiratek FunbindassTurboToyTimeさんこいちTimes MusicJO Channelfirst clickNepeta СтрашилкиTribo da PeriferiaTwin ToysNightcoreRealityKeurig IncLukeCombsVEVOHaider HigerPlayStationCarl & Jinger FamilyCar MusicAttitudePOPLegendary Power RangersHoomanTVNisha MadhulikaToys Unlimited JR.たくっちYoung ThugFilm4K - Phim Kiếm HiệpWrzzerSiêu Nhân Người NhệnMariAndToysEvanescenceVEVONatalia OreiroDubstepGutterماشا و الدبTomoNews IndonesiaKhámPhá TVАфоня TVMr.Wheeler&FriendsNatalies OutletRaeSremmurdVEVOLa Bala3 Adım MüzikMinguadoPanArmenian TVFunny TubeFinger Family SongsJoeyMontanaVEVOINDO MUSIC PLATINUMCBS All AccessBombaEstereoVEVOMarunadan TVTheGamingBeaverABCkidTV MisaSangeeta MusicLudmillaHane & Mari's World Japan Kids TVSilbermondVEVOComment AwardsVision Time Tamil浙江卫视音乐频道 ZJSTV…I Can See Your Voice PHEi Nerd歌手官方音乐频道 SINGERGloomCalphalonKINGOFDARKNESSCERBERUS АИДHGuitaraStudio - حيدر…Cambodia WildlifeActorVarunPruthiSoyFredyDisney Junior BrasilTroyeSivanVEVORajasthani Gorband MusicDeckdiscEllieGouldingVEVO蘋果動新聞 HK Apple DailyMountain Apple Company Inc2MTVMazzika - مزيكا공대생 변승주Goldmines PremiereJennaMarblesAventuraToy CaboodleOnyx Kids지니키즈 Genikids (인기…えむれなチャンネルSt.319 EntertainmentThe Graham Norton ShowLHUGUENYLagu Anak Indonesia BalitaLDShadowLadyClaro BrasilPixel KinaragendisAvrilLavigneVEVOTheBrianMapsTop 5s FinestAction Movies DigiplexToonToon JuegosMD SaddafRajshri KidsBibisBeautyPalacePrimitive Survival SkillsjaipurthepinkcityBemLokoRhymes for Super KidsAmyWinehouseVEVOJSL Global MediaMaitreGimsVEVOТВ Деткам瑪莎與熊 Masha and The Bear CHDidi & Friends - Lagu Kanak KanakDr. Sarita BasuNews7 TamilSunday Production OfficialSimply NailogicalBajki dla dzieciXXXTentacion - TopicPhilip DeFrancoThe Voice GlobalShow Fever综艺风向标BratNykk DeetronicGrupoTelemicroHDDaniel LopezZen - KunDalasReviewMileninha StepaniencoChinoNachoVEVOvideo whatsapptubefikrifadluHajimeRadhe CreationTODAYTmarTn2Resolve Carpet CleanerKluna TikSa1mon4NonBlondesVEVO제이제이 튜브 [JJ Tube]Lise LS_01Klamille WarriorFrost DiamondMasDivertidoTVNanpa Basico OficialJon VlogsLeoDanVEVOLaura RômuloShow TVMsMojoHope For Paws - Official Rescue…Даник КекBlackStarTVImagen NoticiasTeremok BabyTIME MACHINEGame công chúaWarner Music JapanFreememeskidsJackJackPlaysKontor.TVดีต่อใจ…Dibujitos para niñosMR.BComedyplus With NeetuaryaKN ChenoPabllo VittarDozeCampbrunokguimaraesLizzy SharerVinesFromDRmadonnaVosso CanalWeyyak. comIMediaMovies - أى ميديا…Узнавайкаmelo92iBarvinaLanaDelReyVEVOOTVThe Inner Studioقناة شعبيات / Sha3beyat…Annoying Orange GamingLoli Moreno GomezPagla BaBaLucas RangelImagen EntretenimientoFran para meninasSwiggy IndianigahigaArab IdolDaz GamesFran MG10-Minutes Amazing LifeSeseGelMLP Happy TodayMinecraft ParodileriCD CHOICE DramaTroom Troom FRfazz160SevenAwesomeKidsComedy No.1Malabar GalleryForty MovieFrancodeVitaVEVOWow Kidz ActionfestivaldevinachilePlaylistBoomerang PolskaPablo OficialNiloyaKiralık AşkGold Coast MusicReto 4 ElementosThe Master strokeDjMaRiiOLee Kwang Soo RUNNING MANGames EduUuthevampirediariesDesimpedidosWe Are The DavisesFortnite Daily MomentsVICE NewsMasterChef ThailandElla BananaFlavia CalinaMisterSatanZK-391PTC PUNJABILaSalleProstoTVRubic8StevenCrowderPinkPanthersShowSMG4СПСMoriah ElizabethBerry SornAlee mtz cejaCAguileraVEVOMundo da ViviPolsatKreykRiChannelTelenovelasEugenBroTAM STORYA Praça É Nossa태경 TVSony YAY!VTC NowDevotees Insanos RecordsCartoon Network LA리원세상RIWORLDKDI MNCTVFilm&ClipsLes Anges - La chaîne officielleAll DefGameSproutUFC - Ultimate Fighting…Gabriela RochaTalk Shows Central2MadamesTVЯ ПлакалStar JalshaBreakManLentrius TVTheFuriousDestinyGenius ProductionOyuncak KraliyetiNovelas TelefeTopNotch3bdO - عبدوFCK THEMRuLingGameRDC Rajasthani HDLil DickyBethel Music杰威爾音樂 JVR MusicGot Talent España華研國際Comedy Central UKSandaroo Kids [DisneyCarToys]KowiyrusplayingBazziDosEquisMx豪記唱片 HCM MusicDek Jew Chill Outmatichon tvProviSoundGabriela AlmeidaSupertone DigitalMis PastelitosSamsuL OfficiaLVisitmexCoisa de NerdVentaneandoRagnBoneManVEVONickelodeon ItaliaAkillhealsNiceeTV - лучшие вайныwindy31Leandro BorgesSuperbLyricsAction Tadka IndiaCanal Rodrigo Mota TVTop Pakistani DramasShawn WoodsOops BuronNiharika MoviesBrijnaari SumiNickelodeon en EspañolMiramaxHottel MazzaferaTellyMasalaborkomcl奇宝萌兵 - ODDBODSjacksfilmsHappy BachpanGalatta Tamil |…PortugaPCRandom EncountersLartiste OfficielCMA MusictaffTHAI TALEАЛЕКСАНДРА…cosfit1SimoneSimariaVEVOTharProductionPakAwesomenessTVStudio SangeetaDEDBabyKVEVOEduardoCostaVEVOSK tvRashed AlMajid - راشد…Orange EgyptCombo PandaSoSorryKHƯƠNG DỪA CHANNELMariAndFriendsحول العالم 2Red BullГолос країниGiải Trí TViPhim - Phim Bất HủGuitarzskPhong ZhouTips Top 007CyndiLauperVEVOBollywood MoviestoksoundJesus Adrian RomeroShemaroo BhaktiPapa JakeDudu MouraCuentos y Canciones InfantilesSara RosesThanthi TVPetit Espiègle로미유 스토리[Romiyu Story]CiaraThe Rybka TwinsMechanicZالعاب سيمبا…ToyKidsNDTVBoomerang UKTelevízia JOJVideo Clip Giải tríBrunoBarrettoVEVODeddy CorbuzierSuvarna News | ಸುವರ್ಣ…Star MediaGcaothu CHANNELToysReviewToysThe Action LabVTV24Cartoon Network IndiaStarskyCaseyNeistatWandi BrotherSofie DossiDawsenTv - Bengali Stories & RhymesXem gì hôm nay TVZaiLetsPlayFARRUKOVEVOTaz NetworkDesiFeed VideoSỹ KẹoHYKO HanyiKobayashiGameplay Pvz2ブライアンチャンネルXpertThiefMAJID HUSSAINAmerica's Got TalentМультики студии…Janta Films Pvt.Ltd.Big Animation#Desenhos Kids BRGran HermanoPrimitive LivingMovies and TravelJefferson MoraesSportsHDe-aktivite잠뜰 TVIdeas en 5 minutos NIÑOSSaregama BengaliЛига WatchCAR -…GerardoOrtizVEVONexxuz World三立LIVE新聞LaLiga SantanderMLBPrimitive Wildlifeانور المحبوب anwar…Surprise Toys Baby - DTAC TOYS TVRedConectateพระนครฟิลม์…SISI LAIN DUNIANickelodeon FranceKOMPASTVBanglavision DRAMAعروض مواهب مترجمةВремя и СтеклоMonDEVKadınDICHARAHealth & Beauty Tips- Gharelu…Machine Gun KellySunny Kumar RanaFunnyPigBigDaddyHoffman1911Marwa LoudsystemofadownVEVOThe Daya DailyMister Bin Video Film Cartoons…ABCSongsrewinsideМанкиту СhannelEthanGamerGarena RoV ThailandMovie EscenasStand Up Kompas TVDino PereiraThiago Gravações ApresentaBASS BOOSTED SONGSSpor Delisi HDРыжий Ёжик ТВPlayHardDaniRep Golf it y fortnite diario!aiudeskMaina MusicStep by Step IDjoystickSafiya NygaardGlis VideoDj AlfonzinEl Super TruchaMr. NightmareLyrics SonicsBalBharti KidsThánh Nô TVAalok KumarМисс Никольsorriso de criançaKanal D DiziGuitar Record OfficialCalle13VEVOEve My TubeLaurenzSideNational DastakSonsGamesredimi2oficialAdelina GraceTED-EdVootEl Mundo de ClodettМульти-игрультиHindi ActionSongsnoahsarklabelVilFun Show[Dorothy]도로시CJ CAMBOTAR CHORDMÌ HẢO HẢO - ACECOOKKatya AdushkinaTVNTheChildhoodLife Kids and ToysQueenTubeTHJessy Toys 911JustJordan33David VlasKeiferMC - Todo Sobre MinecraftComplexMunnik Tv TürkçeEverXFunKosmos TVsuellASMRVideos Para Whatsapp!Channeli TvКомпотHowcastLe Bled'ArtKhesari Music WorldKafalarMV NEWS赤髪のとものゲーム実況チャンネル!!…The Studio SpaceLIL UZI VERTEBSDocumentary (EBS 다큐)ExplosmEntertainmentTtv Media LimitedBidünya Oyuncak - Dobişko TvKids Channel - Cartoon Videos for…ТО \"Gazgolder\"ทุบโต๊ะ…TimOn ChaveSVIVA NetworkDAMI ANCandy LandGQMarcos e BeluttiiggyazaleamusicVEVO크림히어로즈LIUBCHENKOBoom SlimeLoginfluenceKidsSUSHI RAMEN【Riku】Thông điệp cuộc sốngPelita UtamaAPPLAUSE NEW YORKSCB ThailandBaby TV كتاكيت بيبيTiniVEVOz a mDisturbedDid You Know ?プリッとChannelSlick TwoThreeDiscovery Home & HealthEllie SparklesSpeed Stick - LatinoaméricaPelangi RecordsPPCandyKidCityGoPro1Kilo OficialNOVO! Aprenda as Cores CriançasCiccioGamer89The PalsDukiTeamFourStarМои игрушкиAndrews Toy ChannelКиножурнал \"Ералаш\"…Hari Sharma21 SavageMomentos DivertidosVerizonHowToBasicBắp Bắp ChannelsRudimentalLaliMusicaVEVOdosogasTube WorldCapital FMAayu and Pihu ShowBLACKHANDmonday.com, formerly dapulseiVideosMarah TvOctan l أوكتانUnivisionSTREET FOODKids PlayAiirSource MilitaryXZD PLAYLays ThailandHindi Hangama - Songs ScenesReebok LatamCorridorClassy MatchChe Chef PlayCloeCoutureBangerChannelO Boticáriomen aON SportSuper FailMaya Kids WorldLas EstrellasMusic 2KDouble BubbleYodeArthurVideoSongBajaj PulsarAmr Maskoun | عمرو مسكونCat JuguetesEdition Parisien PlusTakagiKetraVEVOヴァンゆんチャンネル/…TinyLessonTimeإليكمRon Funches - Topicskysoul سكاي سول lBuzzFeed CelebSurprise Egg And Toy CollectorRajasthani kapil devPhim Hài - Bình Minh FilmAB Studio VibesEL DEMENTEAyoandTeoVEVODisney UKKids Dee TVDiscovery Kids Brasil*The Best In The WorldDlan's ToysDancefit LiveUsherVEVOadidas RunningTake It EasyAlexKidsTV Italianovendezvotrevoiture.frascadamusikModernTalkingVEVOLéo MagalhãesHope Music EthiopiaThời Sự OnlinePachecoMainan Anak LetsPlaySTR NoticiasXMEN Việt Nam - Đàn Ông Đích…Macan AllahMorphinLegacyAISBen and Holly’s Little Kingdom…Magic Box Toys CollectorHOA BAN FOODYlovesMUSICSupernannyDisney XDRitmo dos Fluxos By Detona FunkTypical GamerGEMblogMYKINGDOMZackScottGamesGugaTVSoledad SKızVızVızMUJRA MASTIIndonesian Idolcobra123473NcR's ScalingCroton MEGA HIT…SuperSofiGaitherVEVOVarious Artists - TopicAlex 366ChildrenNurseryRhymesSonali Films Purulia BanglaElli DiKanal 7HolaSoyGerman.RTGameTOMIKKU NET* KIDS Daisy BestWhy Don't WeiStealthChris SmooveYellow MusicBollywood BaiScoopMALFAPanthera ParthaCantando Aprendo a HablarБуба — мультфильм…GermanLetsPlaymr bundesteamImJayStationТСНThe Real DaytimeMGKVEVOHollywoodLifemaidigitvATHLEAN-X™ZoeVEVOBOUNTY HUNTER DKUNÜlvi MirzəzadəMyLifeAsEvaLa Diversion de MartinaNews18 HindiJT MusicGabbie HannaGAMES FACTORYFlipFlax壹週刊 NEXTDisco Polo LajfMều ChannelWatanNetwork TVAlfredoOlivasVEVOProSiduTom and Jerry Loversข่าวช่อง 8MassiCelineDionVEVOStudio CAllAroundAudreyIL LATO POSITIVOGahMarinblndsundoll4mjLA LA SCHOOLBoomerang VietnamKejarTayang.TVShree Krishna InternationalТОЙ ДУМАНPaternity CourtСтудия Квартал 95…ゆうぴょん yupyonShemaroo RK FilmsBollywood HardcoreNETMovieclips IndieBoris VasovskiObito ZetsuTEDLucy Play & LearnThe Next News NetworkVictoria Méxicoまふまふちゃんねるfufew playtimeRapper Tery [Official]GTV NewsABS-CBN StarmusicThe Viral FeverUNIVERSAL MUSIC JAPANDạy Bé HọcGuntee PitithanTop FiveatiempopreescolarSamsung BrasilFunny colorsLindsey StirlingCascabel TVDramas CentralHussain Al Jassmi | حسين…Sayonara BoyPowerfulJRETrà Xanh Không Độ民視戲劇館Mercado LivreNo JumperDisney Channel FRChannel DMGMundo Bizarro /JrMr. Fast 2018LadylikeCizzorzFirst We FeastBhojpuri Hit SongsZa warudoKaband Art Production | قبنض…AsfaltRecordsYOYO TV ChannelSpyCakesRudy MancusoNikkieTutorialsBROS SHOWKidsTV123CWETinenQaGameplayrjFamilia DiamondGronkhPocket Films - Indian Short Films每天精彩小视频LJ Studios - FortniteNaxeex StudioSEVENTEENFozi Mozi EspañolBrothersOfDestruction22#Mentale ZufluchtjesseyjoyoficialBrincando Com a Tia FlaZee Music MarathiMan + Riverสํานักข่าวไทย…Aşk Prodüksiyon Müzik Film…El Movimiento TVDisneyToysReviewVisit Dubai감스트GAMSTArabian Fairy TalesKanyeWestVEVOEpitaph RecordsSimpleKidsCrafts - Doll Crafts,…TheMovieKaKaTai LopezPlayToyKids阿神Romka TVMuhteşem YüzyılHealth TimeTV Deranacoilbook™ | Learning For ChildrenTanner FoxmastkalandrNext9news…DorklySTAR TVWebs & Tiaras - Toy Monster…Hotels.comSOMOY TVفرفشة وترفيهDrawings AngeliWaveMusicSchannelMaybellineMexicoTHEWINNER TVレトルトVisitAbuDhabiEl Salvador 4KKids Channel India - Hindi Rhymes…إنسانЛенинград | LeningradPica Pau em PortuguêsMeek MillBUSHIDOGalinha Pintadinha MiniiTownGamePlay *Terror&Diversión*Bengali Songs - Angel DigitalxuxaVEVOFP do Trem BalaShemaroo Kannadamonsterchannel24Quantum Games캐리TV CarrieTVトムの実況チャンネルА ну-ка Давай-каSpiel mit mir - KinderspielzeugPizza Hut IndiaVIP RecordsFantaEMIRecordsIndiaVEVODuck KidstvNMusica Studio'sMillard AyoGEN HALILINTARnollygrioNews18 IndiaBearhugJugando con AbyNam Việt MusicTRT Televizyon티캐스트 tcastBabishko Family Fun TVKidd KeoLastWeekTonightPinkBluePrimal GameplayMarcoASolisVEVOKalan MüzikPlush Time WinsigrovieavtomatiKinoCheck InternationalYaroslava & PlaygroundSky Kids ToysNightcore LabGuinness World Records꼬마버스 타요TuneJar MusicMORGENSHTERNTheDonatoChallenge Me - Hãy Thách Thức…Wrestling reality HDSurpriseFunTVNirvanaVEVO3at3oot TVAP ArchiveAnimaStudy IQ educationHeyKids.es - Canciones Para NiñosChromebookCocho Late TV ツHYPERajshri MarathiAquarius MusikindoCAP TVHoyたっくーTVれいでぃおDIEN QUAN FilmCristian RochaBooba - Cartoon for kidsPoxPoxقوي عقلكAmérica Televisión - SeriesТиматиVenga La AlegríaПУШЕРKworld TVYOLOMM7Gamesishnum munshiVoz BLunaDaniel Tigre en EspañolPlataBushThe Voice Kids Indonesia GTVMini LaddChaseGiọng Hát Việt / The Voice…Pinoy Kids ChannelCocho Late TV PlusMahindra RiseMiniature SpaceShivesh Mishra OfficialTrend Clip Thailand웃소 WootsoLove & Hate CreationSRK MUSICPk Mastعمو صابر القناة…밴쯔Shilpa Tiwarimania japansongMidas MusicLukeBryanVEVOThe 8-Bit ArcadeWongKlomFcTiestoVEVOKendjiGiracVEVOKinoCheckMitsubishi Motors ThailandPJ Masks Brasil – Canal OficialMr Bean Cartoon WorldDj Santosh sanjeetCambodia's Got TalentCó thể bạn chưa biếtJianpeng LiAyurved Tips in HindiEntertainment AccessLPHoa Vinh OfficialVTubersTalisa TossellGrab Officialزواج مصلحة - Zawaj Maslaha…YNW MellyViaNet DehatiThiệu Nhất NguyênBananakidsJINTARA CHANNEL OFFICIALアブ -abu-HiManPauletteeMatt SteffaninaDisney Junior FRNews ExpressWilderness LifeBongoBDNico VoutrinasNoticieros TelevisaMelodyAflam - ميلودي…Entertainment TonightOne Challenge깨비키즈 [KEBIKIDS]KaraoKanta OriginalWACKYBOYS 反骨男孩CheAnD TV - Андрей…Tom & Jerry RangerFilmIsNow Movie Trailers…DEKSORKRAO…FunkylabBlockbuster MoviesREDMON Kids Songs & Nursery RhymesArcangelBest TrendsRuhrpottwacheMatheus Yurleyلا تحرمنا من رؤياك…FlaGeorgiaLineVEVOJustKiddingNewsCartoon MomentsPlay Doh House and Surprise Eggs腾讯视频TencentVideoBass Music MovementAwesome Kids ToysTroll PunjabiLowGrade겜브링 GGAM BRINGKoo Koo TV - HindiVidavooSunflowerTVPeople Are AwesomeHeHaa TVstampylongheadDroidCheatkmi lovepeaceFrancis ValerioGoodDayOfficial8 PassengersVM93GameToyStationYuTV흔한남매TARANG MUSICMelodic StarOLUMLU BAKArazhulThơ NguyễnElta RecordHow It Should Have EndedVideo Bhandar विडीयो…Enrique BunburyShishodia CassettesKruger SightingsBlake HarmonHISTORIASAgustin51Coby PersinL'atelier de RoxaneSarpmitra Akash JadhavPinky and Panda Toys TVDan1sSlogomanFrenchMontanaVEVObharatzkitchen HINDIChannel 4TOSHKENT OVOZISmallroomOfficialTony!Los Mejores FailsNuclear Blast RecordsPrankBrosTVBen PhillipsNew Hindi Dubbed 2018 MoviesTwitch Clips CentralРикиBass Booster Magic - Trap NationinkAnny e EuTomorrowlandArcadeGo.comSTORRORการ์ตูน…SaltgayColors Club for Kids - EspañolJuguetes ToysDEL Records TVEros Now SouthSebastian WilliamsCh3Thailand MusicSony Music (Japan)Saskia's DansschoolThailand's Got TalentSebastián YatraZM TOPKMNGANGDoctor SquishSML ChannelGrab IndonesiaSlipknotFanpage.itВалеришка SimDJ Smile MusicPeppa Pig Español Latino - Canal…NineEntertain OfficialGizzy GazzaZing MP3DOPE or NOPESparkle SpiceValentino PrCD ChoiceMarkAngelComedyPrimer Impactosmokepurpp乐视视频官方频道 Letv…MediaPro MusicMood MakersFiftyShadesVEVOOasisVEVOGlamour MagazineTurtle InteractiveLeBouseuh GamingИгровые сериалыFull MealsShadowPriestok - Евгений…Top TrendingMamá TatuadaColors Songs Learn colors & ShapesSa Sha 1080HDPower VolleyballNext StarFrringoFitDance LifeHuevaMidnight CinemaMarques Brownlee5 Alguma CoisaMaul IbraSomos 5incoSodaStereoVEVOLauvLaurDIYAuntie Joy's Toys週刊少年ジャンプ創刊50周年公式チャンネル…TVSmesharikiLinnéaТелеканал СТБFındık AilesiHi Pencil StudioHeinzABCPulmotoniaPeppa Pig Français - Chaîne…ブライトサイド | Bright Side…Life with MaKPanic! At The DiscoシネマトゥデイGagsnetwork RussiaBulkinPagonejandoMovie MelaPalavra Cantada OficialexposedIN NEWS16Obscuro NotíciasBERTH OH!RKellyVEVOPHIM CẤP 3TheWarpathTotoVEVOGunVsGunYassPlays레이디버그TVCraftingeek*Only HumanKing SoYerGAKKU TVupsocl.comMusica de Arranque (Suscribete)Теперь я ЗнаюSsoftoons AnimationОстроумноLalitha Audios And Videosأسميتها فريحة -…To Dần 365Atitude67VEVOwestlifeVEVOTuenti Argentina中国浙江卫视官方频道…Video TownУкраїна має талантGummy BearsOrtaya KarışıkAlex123Le Grand ConseilThiaguinhoTWICE JAPAN OFFICIAL YouTube…SaneuBMBC1Кинокомпания…Popular Diginet Moviespatty dragonaLithuania HQРома и ХелпикMichouスロパチステーションRadaanMediaViki PelgaTiger ProductionsGarena Liên Quân MobileGabby16bitaliciakeysVEVOStep RecordsSuperjocke927 MinutozKurt Hugo SchneiderCPEuropeDyler | دايلرDj Nonstop RemixDasha KoshkinaCaillouUDiEX2Ahmet AgaKali Uchis - TopicGowardhanVivo IndiaFULL ENTERTAINMENT FOR YOUShemaroo PunjabiFernandinho Ministerio Faz ChoverChrisStapletonVEVOPretoNoBrancoVEVOElBebetoVEVODehati CinemaMelimVEVOЛучшие Моменты из…MEGA GS ENTERTAINMENTRokoMari tvTHAIRAP FC'LYRICSBrain BoostersGroovy el Marciano - EspañolきょんくまカリスマブラザーズDomicsAFIP Administración Federal de…Indonesia Lawyers Club tvOneCasa Magica de JuguetesToys AndFun SistersMarvel EntertainmentDeklaaon ChannelAl Jazeera Arabic قناة…Link Up TV | MusicLuca and Katy愛爾達體育家族 ELTA SportsJasonAldeanVEVOQuynh AkaLAC TVZee StudiosAnnapurna StudiosMichael Pangilinan (Official)Danny GonzalezzoomRose Telugu MoviesPLAYYANI 플레이애니fosterthepeopleVEVOLion TV KannadaExpCaserosBerlin - Tag & NachtModernWhiz.comYouVikRN ENTERTAINSORPRENDENTEBart BakerDoğan Music CompanyEpicStunFUCHTubeWild Animals AttackSaawariyaKhám Phá Bí Ẩn양수빈Cartoon ClubGanga BhaktiJovem Pan NewsHaqeeqat TVTano UploadCanal Top10CHHOTU KI MASTIPlayground for kidsBDV FootballHan KanalFurious TrailerANP EgyptBessan Ismail - بيسان…Antoniano di Bologna officialNickelodeon РоссияUlkaBon AppétitPDND MüzikNam Việt Trữ TìnhInteresting FactsTheRempongsHDKumho Tire USAHiru TVOfficialCKanVEVOBram DermawanStephen YeagerBolly Movies MazaHữu Bộ VlogskobasoloLALA MéxicoVogueKiA PhạmSPNSportsIndiagameranxPyrocynicalZero MediaEvening CinemaMOVIC channelきまぐれクックZola TikTokjohnsonsbabyTomoNews ThailandJhankar TouchKindly KeyinHejka tu LenkaTofuuPlay4GamesElli Di PetsEzequiel Caffaro/ATV - Los Simpson…RichTheKidVEVOSports TakZaraLarssonMusicVEVOMeLon DudeTempo de Saber!Hello KatyDược Phẩm Nhất NhấtMumbo JumboMarcusMartinusVEVOgeorgemichaelVEVOVN Baby's MusicThe Norris NutsLearn Colors For KidsAfife Semra DURMUŞAadishakti FilmsNautanki TamashaGoldmines HousefullÜmidiI AM DANIEL T/M LLCTintas CoralRCTI - ENTERTAINMENTPlaneta Deportivarfmckinleyport gameplaysRyan UpchurchFun Baby ShowFranco EscamillaSunrise PhimTauzThe Voice of NepalMhd OfficielLMFAOVEVOmustafa star l مصطفى ستارฮักเด้อ…Sony Dj Music IndiaGroovy The MartianCà Chua ĐỏNeagleRaúl XCSelected.CHIHUAHUA BAILANDO EN LA PLAZA DE…HollyscoopJess No LimitCrazy 4 TvLaBerisoVEVOJustR3moKhmer Fairy TalesPony KidsLas 2 MuñecasRimKVEVOFARQCalluxReallyCleverAndroidsDIEN QUAN KidsYellowBrickCinema - Relaxing MusicPetcoWithZackBaby Alive BrasilШкола Монстров브라보키즈_BRAVO KIDSDwayne N JazzBHARAT LOK DARSHANShadyRUSSIAN DEEPIndonesia Morning Show NETMovieTalkiesMehrban AliCraftronixNOS JeugdjournaalEdisonPtstessymendesSmosh GamesしょうじLethal SoulGummy for KidsGenteDeZonaVEVOเอกศิลป์…TatiSeriously Just For FunMake Joke OfKhoảnh khắc kỳ diệu -…SpinGoYousef AbdulbasetBinging with BabishPeque MúsicaEeOneGuyDisar5Shruti Arjun AnandRDC Banglar GeetiChuyện Lạ Kỳ ThúPeriodico VIRALVIETLIVE.TVNew Bollywood TVHora do RecreioCoco der NeugierigeWyatt21xMuscle MadnessKaumudyИскусство РазвитияNRS RAJASTHANI MUSICChosen FewEsen MüzikNestlé Việt NamBigDawsTvJessi UribeTheRussianBadgerRoyalPhilippinesDrDreVEVOMisol & Seal -…WIREDAlphaSniper97ArjonaOficialLIVELOVEASAPVEVOPOPxoDailyPocoyo Episodios Completos ESPAÑOLSpockcomediaG EntertainmentはなおfreekickerzTom ProduçõesVotra KidsTVCanal Parafuso SoltoСемейка ZLumaidEurovision Song Contestقناة الاطفال -ALATFALaurora universeBollywood LifeTiti Toys and DollsMark WiensBlake Shelton - TopicSalomundoFEDUKSing mit mir - KinderliederCyprienDream TV EgyptAmit Kumar AKRNovelas NowВайнранSoundtekPharrellWilliamsVEVOBaby ToysReviewSmithsonian Channel헬로카봇 - hello carbot…MISTHY TVKIDS TOYS CHANNELSanjivani BhojpuriJuliencoHIMAWARI普段遊びDemolitionRanchAroundMeBDUltra MarathiParecen Noticias ExtraGanga CassetteОрел и РешкаMuseカズゲームズ/Gaming KazuEmergency AwesomeAmmA MusicUltra Kids ZoneCaixa Econômica FederalOddbods EspañolG M Dance CentreSyrexDara Daily華語網絡大電影India News ViralAryMiPFuture - TopicGoogle BrasilSpacetoonDoug DeMuromehndi designs by Rajeshwari ArunAudioslaveVEVOGlobal NewsSK telecomOfficial Arctic Monkeys비몽NLaFourcadeVEVOТанцюють всі!Cambodia Wilderness ChannelNadeem SarwarRick GrimesBaby GizmoAction Mania V2letstalk saddamXiaomi FranceThanks For WatchingMasha ZoomGROUDPONDDenzelCurryVEVODiana NaikovaNassif ZeytounSeanPaulVEVOTulioakar96GBR - Giochi per Bambini e RagazziGreen DayDẠY BÉ HỌC ONLINEbugzybugoutСитилинк民視綜合頻道LOKMANBosskingFilmsEl Barbudo TabooBMTHOfficialVEVOWarner Music SpainHeadspaceBIC Production | مركز…Elif DizisiTEAM KUKUAstro GempakМатвей Котофейbachata1908Group ReporterOSR Digital#FIRST WINGS FILM PRODUCTIONぺいんとチャンネルゥVideos NovelasLove IslandProGamingStudioHD ヅArab cinemaBarbieeeETeen Titans Go!MEGWIN TVDani Mocanu © OficialFlowers TVThe Film TheoristsKid's GamesTamel RaseganOneindia Tamil |…Sezen AksuComfy - ДемоTyler, The CreatorMonstercat: UncagedSunShine SenpaiThe Big Bang: Theory BRTaryLODVGVEVOJenna DewanTheCranberriesVEVOالقيثارة | AlqitharaCBSLitllebaby雙胞胎軒軒釩釩Jaaz MultimediaMahindra RacingÇocukcukCMVMundo WebPaweł DomagałaT-MobileHayal AilesiGossip AddaJoga SportTelemundo EntretenimientoHOTVODyoung5FDPVEVOTrilha Sonora FavoritaDavidBisbalVEVOИгрушки ЗверюшкиSpanisHDRealpingüinoCoppelShow and Tell ToysBonafont Levitéمزيون قيمز - GamesMzuuoonSongs PKlozaus1XBRAKER VS ARCADE王小君DAHIYA FILMSAn Ninh Thế GiớiHarry HuPower Past ImpossibleNPR Music악동 김블루DüşyeriMr.VenkatTVPT. NutriSainsSergey322FilmSelect Español圧倒的不審者の極み!Level UPThird String KickerResearch Tv IndiaHalfpintFilmz - WouldYaLookAtThisIzzy's Toy TimeEleven Seven MusicSBS InkigayoThomas ToysEarthWindandFireVEVO밥티비اتفرج منوعات 2Zee SarthakHouse Of JhankarJucariiPentruTine JucariiCoasterForceDANWEBColor ManТрум Трум СЕЛЕКТAGUGAII'm A Celebrity... Get Me Out Of…Vrindavan Channelمحمد خير جراح Mhd Kheir…UrbanoVideosTVRobin Schulzقناة الشيخ كشكCartoon Network BrasilOfficialGucciManeAll In OneZıpır Çocuk TVS7SSCIBHAJANConnectingRosanna PansinoMaxINFINITEShaun the Sheep [BahasaIndonesia]Garam Chaiمعلومة | M3lomaCD MLP scratchNYN KIDRovi23Kubz ScoutsTv9 GujaratiLittle Baby Bum Junior Nursery…Will It Slime?ColorsTV PromosLiliya KittoDisco Recording Company - Telangana…MARTIN TV GO VEGAN - AMOR Y MÁSJaze CinemaAşk Laftan AnlamazOyuncak ŞekeriRAJAWALI TELEVISI - LANGIT RTVHYPEXCam ChannelRudelIrmãos BertiNellyVEVOMR BhojpuriyaWolokoso Mu UgandaDie AntwoordLittle Treehouse India - Hindi Kids…Andhika GemintangOiJani Eremin華策FUN國際｜HUACE GLOBAL FUNPeppa Pig EnglishJHANKAR STUDIOHERMusicVEVOFilmiBeatUncle CoroneToda MeigaMcDonald's BrasilTrung Ruồi OfficialCarolina RossSorDor StyleMANYACRAFTGEICO InsuranceDisneyChannelITAnavitoriaVEVOMIX TVTheBrainDitPEACH EAT LAEKFunny FloretPUBG TVRound2hellTruyện Ma Kinh Dị 2018RTL2CILIODomingo EspetacularNerdOut!Tarang Cine Productions釣りよかでしょう。Maasranga TV OfficialVICEエムキッズチャンネルM…ROBERT PGMovieclips Coming SoonMysticGotJokesMileyCyrusVEVOColorMonsters ToyRels B // Flakk DanielHDBroadcaster .comРэп Лирика - Рэп…tvOneNewsHiHaHe Nerf WarAflamna El7elwa - أفلامنا…NOWnewsТелеканал ЮAnneDaftar5PalmashowBollywood Arabic VideosPeter PlutaXAttessia TV少康戰情室Mac MillerILuvOlitz2cute kiddyKurtlar VadisiYuki MusicTivibu Sporkiiroitori1229Dr. Vivek Bindra: Motivational…Ahmed Hassan HusseinPragerUAshStudio7FUNTASTIC TV - Kids Songs and…MeleTOPTalking Kitty CatCaptainSauceJulia SilvaWhatCulture WrestlingAlexMax Handontettotvน้องดาว We Kids SmileNossa NovelaSimon DesueJc SheikBrutalGaming!Os PequerruchosstarshipTVSamsungChileGRUPO5자동차 & 로봇 장난감 Car &…ZoZo ShowReggaeton FullHD保育園ぐらんでぃーるDavidsTVOlsa & OltaDjSuraj Farrukhabadまめきゅん [MAMEKYUNN]Zalfa Aulia ChannelMonstaPebbles HindiSuper Kid HeroCristiano AraújoBelgas TVMTG - NhânHBOPuneetSwayBo Studio SMFRoadrunner RecordsEM - عيسى المرزوقMi Mi KidsFique Diva com NielyLe Monde à L'Enversbaby meskTunes Arabia - تيونز…Veena MusicWWE Mania桐崎栄二/きりざきえいじAbstrachujeTVBTNews HindiRedondos SubtituladosLos 484 TUBENo: 309VarietyGrandpa KitchenWarner Bros. Pictures…Adını Feriha Koydumবাউলা অন্তরNuke's Top 5ditto artToyStorys CAF NetworkTRAMBOLINO COMPILATIONبابلي تولز | PublitoolsOzuna - TopicAUC - ALL URBAN CENTRALSuhana SafarColors KidsActive Self ProtectionHãng Phim Hoạt Hình Việt NamsoormandirLakme IndiaTudubom RecordsPhim Hài Hay - Phim Hài ViệtThaiPBSHeadlines IndiaVehliJantaRecords91.9 Sarthak FMCarbon Fiber MusicWheel City Heroes - Official…Crown RecordsThai Fairy TalesALPACOToy Candy테스터훈 TesterHoonSiwonii MeowMaddock Filmstelblog.netMehndiArtisticaMiss GabyDehati Indian MastiTV1 TeluguLa Santa Grifa OfficialMonthly WinnersTOYLANDPiuzinhoChetak HaryanviBaby Fun LearningMarlon HuberDD STAR Record재넌Mitsubishi Motors CanadaMusic WorldWix EspañolNatraj Cassette BarhiCrime AlertRTL EntertainmentKHBSiyah Giyen GençKarenDaidai MusicChannelFórum ChavesQuizKnockعباس النوري :…FernandoSorocabaVEVOWAMIndiaMoviesPRIVADO 80sNovelas TeenWisinYYandelVEVODOLLARコレコレチャンネル…Trend CentralTeroserPlayFunkHitsVEVOUsagersDesLilasGlee ScenesEcrin Su ÇobanDatPiffYour Face Sounds FamiliarMy Country My LifestyleMagneotonhyghhopesRenault BrasilVS RECORDSEnterr10 Music BhojpuriThe EvansHalseyVEVOSkip and Shannon: UNDISPUTEDMes Parrains 2016G Series BhaktiChicas CosmoAlice in youtubelandNick Eh 30HAYZO TVСвинка Пеппа новые…RedmauBaka Prase三原JAPAN Sanyuan_JAPANOfficial NET NewsG.S WorldWoolly and Tig Official ChannelLevi's®شاشة المعرفةGup Chup MasthiMyMissAnandBRUTOSNoahsNoahLOBODALa Voz Kids EspañaGlobal Health Media ProjectSchoolBoyTwiinsCuliacanTvPrankInvasion中天電視NickJonasVEVOЛучшее из СетиGustavo ParódiasZombies GameplayThe Ohana AdventureDilsinhoVEVOКороль ММАSwissbeatboxPeople are AwesomeP 4 PakaoЮликBaby Joy Joy - Early Learning (Kids…Cobalt MusicKch Multimedia NaatPBS KIDSBaby Dolls & Little GirlsRioromaVEVOAerosmithVEVOBT SportВладимир КумMuca MuriçocaiGameplay1337Tmall AliExpress RussiaHFM.ProductionsKids PlanetExatlónWylsacomİşte Benim StilimInsatiable ClipsRaditya DikaLuL Gaming26Solmates magicThe Times of IndiaA Plus EntertainmentColors Banglaİstanbullu GelinJoko & KlaasKeybladeMagmaMusenTVOKidsSelena Gomez - TopicHooplaKidz TV - Funny Cartoons For…cine qubedangmattsmithЯрик ЛапаThe Jeremy Kyle ShowMagic PetsТелеканал ТЕТRD GameplaySwami RamdevMaviSlimeEgyptian Arts GroupHalf TicketsVideo PalaceAmeer BrosCem AdrianSobhi Mohammad - صبحي محمدPro-M코이티비KOITV킴성태TVSaregama GenYLegião de Heróis水溜りボンドの日常AfreimFaZe SenseiVarious Artists - TopicLetsPlayBillie EilishTRT 1BlastphamousHD TV2Mas WadityaWATZAPPokeSTR RedmtvlebanonNTV NatokAll Babies Channel - 3D Nursery…DashieGamesAnimation CinemaはるみFabelle Exquisite ChocolatesAshok Kumar RajBhojpuri JunctionBebe MiloMusasSmosh PitStuffOneHeadConcussionTVWar3StarChildren Animation StationTheScriptVEVODunya NewsThe Living TombstoneDJHAMIDAOFFICIELFJM 006Ameer AlabadiOrigins ExplainedM-UrbanДизель СтудиоBhojpuri BeatsWOW TVMDP AdwordsCuentos y Juguetes de AdriTOP 15 CURIOSIDADESRaj vallabhFarmees Português - Canções dos…Fischer's-セカンダリ-HashtagsSuperline MusicWhatCultureokonomi monjyaQueen NaijaHard PlayVAST StudioSKY BoleroSmoke The BearRevolución Popular NoticiasTips FilmsBORCREW OFFICIALเออน่า…Thomas & FriendsХ-ФакторCalle y PochéDj MassageUFOvnisSHORT TIME SECRETColors with Baby급식왕GumbalNewMelodyMOMENTO DA CRIANÇA : CHILD'S…МалышарикиWow Sister ToyTrillion - 8D MusicoblomoffAnimal PlanetKBS 안테나LA DIVAZAМатч ТВCyberpunk 2077Nando MouraKÖLN 50667 - NEWSTV5 NewsNiki and GabiMy TOP10 of TodayИгрули TVقناة افلام اكشن…Jarir BookstoreAl Fondo hay SitioGarnier Méxicoدانية شافعي DanyahShafeiTang TakorNeYoVEVOAuf StreifeOneTwoNhạc sĩ Nguyễn HậuAnderson Augusto MorenoПоиграйкаShaun the Sheep [ViệtNam]Heróis em GeralTbilisi Music FactoryTHESSALONIAN31NHow RidiculousmomoYummy CakeNew Smile EntertainmentNORMAN FAIT DES VIDÉOSChristianNodalVEVOLaSabriDumbazzFunny Fingers TVDaniel ShayaVillage food factoryMythri Movie Makersbaby shark tv - fun for kidsKraulLagu Anak TVFilipino Fairy TalesMachinimaTinTon TvBloveslifeMisterios ParanormalesluisitoreyCadbury SilkLifia NialaImran's Toy Reviewsميني فيلم افلام…Grizzy & les LemmingsMaa Janki Series - BhaktiMazaaq Raat OfficialAntena 1Verdade PolíticaThe Icing ArtistPublic TV | ಪಬ್ಲಿಕ್…BlitzUIE MoviesYoYo TeLeViSion VietSubGoldmines DishoomfoofightersVEVO키즈팡TVEazyDropRadial by The OrchardDivertiGuayDaftPunkVEVOKingKennyTvUSA TODAYPULCINO PIOTop Channel AlbaniaĐi Rừng & Làm RẫyBeritaSatuTVGibi ASMRSelenaVEVODiki Duki DarielCome on Kids Learn & ToysAbu musicUmiKidsBollygrad Studiozmoviecollectionjpjogodoido1canalestrellatvنايف&نواف /naif.nawafReal Time with Bill MaherIsaias SaadDebbie Doo Kids TVCloudKidAdamThomasMoranDanny LetrasToyTV - Khủng long bạo chúaESRAWORLDSen Vàng TiviVidya VoxComicbook.comLazada Việt NamHD Songs BollywoodWhattheduckBlack Beard ProjectsWu Tang CollectionBen 10ماوكليMannie and GeneciaAwesome Toysゴウキ/Gouki BOOKSunita Agarwalmiguel marrujoOnyx FamilyTonightShowNetpaint colouring pages for kids tvCineBox Pictures三立台劇Discovery UKMrLololoshka (Роман…Kelli MapleMi VietnamÖrümcek Adam Şimşek McQueenDu Lịch Bụi유라야놀자(Let's play YURA)Cidade do Carro - Desenhos Animados…Wankil Studio - Laink et TerracidEDWIN DIAZTOLuan SantanaGjigandet e VegjelSingle Track StudioHappy Toy DollsFunny CommercialsBBC NewsFuntap GameNancy AjramNIVEA MEN IndonesiaRed PandaМакс Ващенкоtanvi emitraTop5CentralLuisito KingdomBrendan KavanaghTiny Turtle - FortnitexxYjYxxSilo EntertainmentVision TVIndian Daily News And Entertainment…BOXX MUSICAntraxMoviebox Record Label鈴川絢子/Suzukawa AyakoBrandon RogersHoniroTree AnimationMohamed AlSalim | محمد…PS DailyX Music - BoleroWildBrain – Kids VideosSK-II JapanKyler and MadNTV EntertainmentウマヅラビデオConor MaynardGodenotthinkThinFantastic AdventurescamilaVEVOZkylixxperfect statusAlexunea TVRahatFAKhanVEVOYuvan Shankar RajaLittle BigSAMURAI ClipsHumberto ContrerasMuhammed NalçaBD Media MusicDramaAlertSonic Islamic (سونک…Unisys MusicToniBraxtonVEVOBloodyVidsUnspeakablePlaysMondoMediaWe Are Kids Unitedchannel of batsu gameСедьмой канал - 7…New BlakerMy Disney ToysIndian Tele TadkaСила СловаWismichuCambodia Daily KHB4U Mini Theatreゆきりぬเรื่องเล่า…Dutch Lady Việt NamToeiPrettyGuardiansTrav and CoraeonretailBeamNG-DestructionFonsecaTOYSBR Parque dos Brinquedos…Canal Regional MexicanoAlly LawOfficial iNewsDAYMOLITIONleorojasVEVOจัดอันดับ TVKiera BridgetFUNK EXPLODEFORTNITE IS MY CITYWamaBollywoodKillaSteveTheGamer55Neha ki pathsalaArena CloserBlox4FunMantex & Minajaby koayYouTube Nigerian MoviesСкортиclips mixRahma Riadمعلومه في كتابMahendra Guru : Online Videos For…がっちゃんねる★TheGacchannel…Lukas GrahamHRVYVEVODramaFever LatinoTelenovelas Mx-BRElevation WorshipSOLONGworldfouseyTUBETGFbroDread Mar I - OficialToyFamilyJenniRiveraVEVOVFF Channelهل تعلم؟KrazyGummyXAmbassadorsVEVOJoe WellerTomat LebayBreeze ThailandGermany's next TopmodelDan and RiyaTomoNews USGuardian NewsJokes PKFozi Mozi EnglishMonique HarteveldMediaoneTV LiveCakes StepByStepFlorida Georgia Line - Topicalpha m.Ляпота ТВBrian Sobrevillahoshinogen official channelSMG上海电视台官方频道 SMG…The SpectorsAitanaVEVOFebatistaCBRKhan AcademyTuTiTu TürkçeKids Tv Italiano - canzoni per…Loose WomenAmazingSinglesLowlight TVTaco HemingwayVirosДима МасленниковSoltana - سلطانةLIT killahEchorouknewsTV슈기님PlayEven FashionsBaxtrixfishmarketbdEglence tvOleg ZotovChilevisiónSonyLIVFanatik Klasik Filmของเล่นแสนสนุก…Rahim PardesiFunny KidsAvonBRDisney Channel AfricaРома СветленькийMonkeyBooScreen JunkiesLuli60able채널A HomeМашинка ИгрушкаJean LAndreaBocelliVEVOCidadeAlertaRecordYouANDi GamesGREAT IDEAS GREAT LIFEKukuliToys to Learn ColorsКАZКАUnited CUBE (CUBE Entertainment…Wings MarathiUras BenlioğluHI-TECH MUSIC LTDMastersaintBruce McIntoshSehatAQUA' to numeric",
      "\nThe above exception was the direct cause of the following exception:\n",
      "\u001b[1;31mTypeError\u001b[0m                                 Traceback (most recent call last)",
      "Cell \u001b[1;32mIn[54], line 1\u001b[0m\n\u001b[1;32m----> 1\u001b[0m \u001b[43mdata\u001b[49m\u001b[38;5;241;43m.\u001b[39;49m\u001b[43mgroupby\u001b[49m\u001b[43m(\u001b[49m\u001b[38;5;124;43m\"\u001b[39;49m\u001b[38;5;124;43mGrade\u001b[39;49m\u001b[38;5;124;43m\"\u001b[39;49m\u001b[43m)\u001b[49m\u001b[38;5;241;43m.\u001b[39;49m\u001b[43mmean\u001b[49m\u001b[43m(\u001b[49m\u001b[43m)\u001b[49m\n",
      "File \u001b[1;32mc:\\Users\\BHUVANESWARI\\AppData\\Local\\Programs\\Python\\Python313\\Lib\\site-packages\\pandas\\core\\groupby\\groupby.py:2452\u001b[0m, in \u001b[0;36mGroupBy.mean\u001b[1;34m(self, numeric_only, engine, engine_kwargs)\u001b[0m\n\u001b[0;32m   2445\u001b[0m     \u001b[38;5;28;01mreturn\u001b[39;00m \u001b[38;5;28mself\u001b[39m\u001b[38;5;241m.\u001b[39m_numba_agg_general(\n\u001b[0;32m   2446\u001b[0m         grouped_mean,\n\u001b[0;32m   2447\u001b[0m         executor\u001b[38;5;241m.\u001b[39mfloat_dtype_mapping,\n\u001b[0;32m   2448\u001b[0m         engine_kwargs,\n\u001b[0;32m   2449\u001b[0m         min_periods\u001b[38;5;241m=\u001b[39m\u001b[38;5;241m0\u001b[39m,\n\u001b[0;32m   2450\u001b[0m     )\n\u001b[0;32m   2451\u001b[0m \u001b[38;5;28;01melse\u001b[39;00m:\n\u001b[1;32m-> 2452\u001b[0m     result \u001b[38;5;241m=\u001b[39m \u001b[38;5;28;43mself\u001b[39;49m\u001b[38;5;241;43m.\u001b[39;49m\u001b[43m_cython_agg_general\u001b[49m\u001b[43m(\u001b[49m\n\u001b[0;32m   2453\u001b[0m \u001b[43m        \u001b[49m\u001b[38;5;124;43m\"\u001b[39;49m\u001b[38;5;124;43mmean\u001b[39;49m\u001b[38;5;124;43m\"\u001b[39;49m\u001b[43m,\u001b[49m\n\u001b[0;32m   2454\u001b[0m \u001b[43m        \u001b[49m\u001b[43malt\u001b[49m\u001b[38;5;241;43m=\u001b[39;49m\u001b[38;5;28;43;01mlambda\u001b[39;49;00m\u001b[43m \u001b[49m\u001b[43mx\u001b[49m\u001b[43m:\u001b[49m\u001b[43m \u001b[49m\u001b[43mSeries\u001b[49m\u001b[43m(\u001b[49m\u001b[43mx\u001b[49m\u001b[43m,\u001b[49m\u001b[43m \u001b[49m\u001b[43mcopy\u001b[49m\u001b[38;5;241;43m=\u001b[39;49m\u001b[38;5;28;43;01mFalse\u001b[39;49;00m\u001b[43m)\u001b[49m\u001b[38;5;241;43m.\u001b[39;49m\u001b[43mmean\u001b[49m\u001b[43m(\u001b[49m\u001b[43mnumeric_only\u001b[49m\u001b[38;5;241;43m=\u001b[39;49m\u001b[43mnumeric_only\u001b[49m\u001b[43m)\u001b[49m\u001b[43m,\u001b[49m\n\u001b[0;32m   2455\u001b[0m \u001b[43m        \u001b[49m\u001b[43mnumeric_only\u001b[49m\u001b[38;5;241;43m=\u001b[39;49m\u001b[43mnumeric_only\u001b[49m\u001b[43m,\u001b[49m\n\u001b[0;32m   2456\u001b[0m \u001b[43m    \u001b[49m\u001b[43m)\u001b[49m\n\u001b[0;32m   2457\u001b[0m     \u001b[38;5;28;01mreturn\u001b[39;00m result\u001b[38;5;241m.\u001b[39m__finalize__(\u001b[38;5;28mself\u001b[39m\u001b[38;5;241m.\u001b[39mobj, method\u001b[38;5;241m=\u001b[39m\u001b[38;5;124m\"\u001b[39m\u001b[38;5;124mgroupby\u001b[39m\u001b[38;5;124m\"\u001b[39m)\n",
      "File \u001b[1;32mc:\\Users\\BHUVANESWARI\\AppData\\Local\\Programs\\Python\\Python313\\Lib\\site-packages\\pandas\\core\\groupby\\groupby.py:1998\u001b[0m, in \u001b[0;36mGroupBy._cython_agg_general\u001b[1;34m(self, how, alt, numeric_only, min_count, **kwargs)\u001b[0m\n\u001b[0;32m   1995\u001b[0m     result \u001b[38;5;241m=\u001b[39m \u001b[38;5;28mself\u001b[39m\u001b[38;5;241m.\u001b[39m_agg_py_fallback(how, values, ndim\u001b[38;5;241m=\u001b[39mdata\u001b[38;5;241m.\u001b[39mndim, alt\u001b[38;5;241m=\u001b[39malt)\n\u001b[0;32m   1996\u001b[0m     \u001b[38;5;28;01mreturn\u001b[39;00m result\n\u001b[1;32m-> 1998\u001b[0m new_mgr \u001b[38;5;241m=\u001b[39m \u001b[43mdata\u001b[49m\u001b[38;5;241;43m.\u001b[39;49m\u001b[43mgrouped_reduce\u001b[49m\u001b[43m(\u001b[49m\u001b[43marray_func\u001b[49m\u001b[43m)\u001b[49m\n\u001b[0;32m   1999\u001b[0m res \u001b[38;5;241m=\u001b[39m \u001b[38;5;28mself\u001b[39m\u001b[38;5;241m.\u001b[39m_wrap_agged_manager(new_mgr)\n\u001b[0;32m   2000\u001b[0m \u001b[38;5;28;01mif\u001b[39;00m how \u001b[38;5;129;01min\u001b[39;00m [\u001b[38;5;124m\"\u001b[39m\u001b[38;5;124midxmin\u001b[39m\u001b[38;5;124m\"\u001b[39m, \u001b[38;5;124m\"\u001b[39m\u001b[38;5;124midxmax\u001b[39m\u001b[38;5;124m\"\u001b[39m]:\n",
      "File \u001b[1;32mc:\\Users\\BHUVANESWARI\\AppData\\Local\\Programs\\Python\\Python313\\Lib\\site-packages\\pandas\\core\\internals\\managers.py:1469\u001b[0m, in \u001b[0;36mBlockManager.grouped_reduce\u001b[1;34m(self, func)\u001b[0m\n\u001b[0;32m   1465\u001b[0m \u001b[38;5;28;01mif\u001b[39;00m blk\u001b[38;5;241m.\u001b[39mis_object:\n\u001b[0;32m   1466\u001b[0m     \u001b[38;5;66;03m# split on object-dtype blocks bc some columns may raise\u001b[39;00m\n\u001b[0;32m   1467\u001b[0m     \u001b[38;5;66;03m#  while others do not.\u001b[39;00m\n\u001b[0;32m   1468\u001b[0m     \u001b[38;5;28;01mfor\u001b[39;00m sb \u001b[38;5;129;01min\u001b[39;00m blk\u001b[38;5;241m.\u001b[39m_split():\n\u001b[1;32m-> 1469\u001b[0m         applied \u001b[38;5;241m=\u001b[39m \u001b[43msb\u001b[49m\u001b[38;5;241;43m.\u001b[39;49m\u001b[43mapply\u001b[49m\u001b[43m(\u001b[49m\u001b[43mfunc\u001b[49m\u001b[43m)\u001b[49m\n\u001b[0;32m   1470\u001b[0m         result_blocks \u001b[38;5;241m=\u001b[39m extend_blocks(applied, result_blocks)\n\u001b[0;32m   1471\u001b[0m \u001b[38;5;28;01melse\u001b[39;00m:\n",
      "File \u001b[1;32mc:\\Users\\BHUVANESWARI\\AppData\\Local\\Programs\\Python\\Python313\\Lib\\site-packages\\pandas\\core\\internals\\blocks.py:393\u001b[0m, in \u001b[0;36mBlock.apply\u001b[1;34m(self, func, **kwargs)\u001b[0m\n\u001b[0;32m    387\u001b[0m \u001b[38;5;129m@final\u001b[39m\n\u001b[0;32m    388\u001b[0m \u001b[38;5;28;01mdef\u001b[39;00m\u001b[38;5;250m \u001b[39m\u001b[38;5;21mapply\u001b[39m(\u001b[38;5;28mself\u001b[39m, func, \u001b[38;5;241m*\u001b[39m\u001b[38;5;241m*\u001b[39mkwargs) \u001b[38;5;241m-\u001b[39m\u001b[38;5;241m>\u001b[39m \u001b[38;5;28mlist\u001b[39m[Block]:\n\u001b[0;32m    389\u001b[0m \u001b[38;5;250m    \u001b[39m\u001b[38;5;124;03m\"\"\"\u001b[39;00m\n\u001b[0;32m    390\u001b[0m \u001b[38;5;124;03m    apply the function to my values; return a block if we are not\u001b[39;00m\n\u001b[0;32m    391\u001b[0m \u001b[38;5;124;03m    one\u001b[39;00m\n\u001b[0;32m    392\u001b[0m \u001b[38;5;124;03m    \"\"\"\u001b[39;00m\n\u001b[1;32m--> 393\u001b[0m     result \u001b[38;5;241m=\u001b[39m \u001b[43mfunc\u001b[49m\u001b[43m(\u001b[49m\u001b[38;5;28;43mself\u001b[39;49m\u001b[38;5;241;43m.\u001b[39;49m\u001b[43mvalues\u001b[49m\u001b[43m,\u001b[49m\u001b[43m \u001b[49m\u001b[38;5;241;43m*\u001b[39;49m\u001b[38;5;241;43m*\u001b[39;49m\u001b[43mkwargs\u001b[49m\u001b[43m)\u001b[49m\n\u001b[0;32m    395\u001b[0m     result \u001b[38;5;241m=\u001b[39m maybe_coerce_values(result)\n\u001b[0;32m    396\u001b[0m     \u001b[38;5;28;01mreturn\u001b[39;00m \u001b[38;5;28mself\u001b[39m\u001b[38;5;241m.\u001b[39m_split_op_result(result)\n",
      "File \u001b[1;32mc:\\Users\\BHUVANESWARI\\AppData\\Local\\Programs\\Python\\Python313\\Lib\\site-packages\\pandas\\core\\groupby\\groupby.py:1995\u001b[0m, in \u001b[0;36mGroupBy._cython_agg_general.<locals>.array_func\u001b[1;34m(values)\u001b[0m\n\u001b[0;32m   1992\u001b[0m     \u001b[38;5;28;01mreturn\u001b[39;00m result\n\u001b[0;32m   1994\u001b[0m \u001b[38;5;28;01massert\u001b[39;00m alt \u001b[38;5;129;01mis\u001b[39;00m \u001b[38;5;129;01mnot\u001b[39;00m \u001b[38;5;28;01mNone\u001b[39;00m\n\u001b[1;32m-> 1995\u001b[0m result \u001b[38;5;241m=\u001b[39m \u001b[38;5;28;43mself\u001b[39;49m\u001b[38;5;241;43m.\u001b[39;49m\u001b[43m_agg_py_fallback\u001b[49m\u001b[43m(\u001b[49m\u001b[43mhow\u001b[49m\u001b[43m,\u001b[49m\u001b[43m \u001b[49m\u001b[43mvalues\u001b[49m\u001b[43m,\u001b[49m\u001b[43m \u001b[49m\u001b[43mndim\u001b[49m\u001b[38;5;241;43m=\u001b[39;49m\u001b[43mdata\u001b[49m\u001b[38;5;241;43m.\u001b[39;49m\u001b[43mndim\u001b[49m\u001b[43m,\u001b[49m\u001b[43m \u001b[49m\u001b[43malt\u001b[49m\u001b[38;5;241;43m=\u001b[39;49m\u001b[43malt\u001b[49m\u001b[43m)\u001b[49m\n\u001b[0;32m   1996\u001b[0m \u001b[38;5;28;01mreturn\u001b[39;00m result\n",
      "File \u001b[1;32mc:\\Users\\BHUVANESWARI\\AppData\\Local\\Programs\\Python\\Python313\\Lib\\site-packages\\pandas\\core\\groupby\\groupby.py:1946\u001b[0m, in \u001b[0;36mGroupBy._agg_py_fallback\u001b[1;34m(self, how, values, ndim, alt)\u001b[0m\n\u001b[0;32m   1944\u001b[0m     msg \u001b[38;5;241m=\u001b[39m \u001b[38;5;124mf\u001b[39m\u001b[38;5;124m\"\u001b[39m\u001b[38;5;124magg function failed [how->\u001b[39m\u001b[38;5;132;01m{\u001b[39;00mhow\u001b[38;5;132;01m}\u001b[39;00m\u001b[38;5;124m,dtype->\u001b[39m\u001b[38;5;132;01m{\u001b[39;00mser\u001b[38;5;241m.\u001b[39mdtype\u001b[38;5;132;01m}\u001b[39;00m\u001b[38;5;124m]\u001b[39m\u001b[38;5;124m\"\u001b[39m\n\u001b[0;32m   1945\u001b[0m     \u001b[38;5;66;03m# preserve the kind of exception that raised\u001b[39;00m\n\u001b[1;32m-> 1946\u001b[0m     \u001b[38;5;28;01mraise\u001b[39;00m \u001b[38;5;28mtype\u001b[39m(err)(msg) \u001b[38;5;28;01mfrom\u001b[39;00m\u001b[38;5;250m \u001b[39m\u001b[38;5;21;01merr\u001b[39;00m\n\u001b[0;32m   1948\u001b[0m \u001b[38;5;28;01mif\u001b[39;00m ser\u001b[38;5;241m.\u001b[39mdtype \u001b[38;5;241m==\u001b[39m \u001b[38;5;28mobject\u001b[39m:\n\u001b[0;32m   1949\u001b[0m     res_values \u001b[38;5;241m=\u001b[39m res_values\u001b[38;5;241m.\u001b[39mastype(\u001b[38;5;28mobject\u001b[39m, copy\u001b[38;5;241m=\u001b[39m\u001b[38;5;28;01mFalse\u001b[39;00m)\n",
      "\u001b[1;31mTypeError\u001b[0m: agg function failed [how->mean,dtype->object]"
     ]
    }
   ],
   "source": [
    "data.groupby(\"Grade\").mean()"
   ]
  }
 ],
 "metadata": {
  "kernelspec": {
   "display_name": "Python 3",
   "language": "python",
   "name": "python3"
  },
  "language_info": {
   "codemirror_mode": {
    "name": "ipython",
    "version": 3
   },
   "file_extension": ".py",
   "mimetype": "text/x-python",
   "name": "python",
   "nbconvert_exporter": "python",
   "pygments_lexer": "ipython3",
   "version": "3.13.1"
  }
 },
 "nbformat": 4,
 "nbformat_minor": 2
}
